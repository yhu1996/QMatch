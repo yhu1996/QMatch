{
 "cells": [
  {
   "cell_type": "markdown",
   "id": "68d2ecb0",
   "metadata": {},
   "source": [
    "# check Gaussian-Fermion package"
   ]
  },
  {
   "cell_type": "markdown",
   "id": "eb8371a7",
   "metadata": {},
   "source": [
    "## import the package"
   ]
  },
  {
   "cell_type": "code",
   "execution_count": 2,
   "id": "57a5bb8f",
   "metadata": {},
   "outputs": [],
   "source": [
    "from fermion_gaussian import *"
   ]
  },
  {
   "cell_type": "code",
   "execution_count": 9,
   "id": "8a2701b4",
   "metadata": {},
   "outputs": [],
   "source": [
    "import numpy as np\n",
    "from numpy import linalg as LA"
   ]
  },
  {
   "cell_type": "markdown",
   "id": "9a221d55",
   "metadata": {},
   "source": [
    "## Function: correlation_mat(M)\n",
    "Given a free fermion Hamiltonian taking the following form,\n",
    "\\begin{equation}\n",
    "H ~=~ \\frac{i}{2}\\,\\sum_{i,j=1}^{2L}\\,M_{ij}\\,\\gamma_i\\,\\gamma_j\n",
    "\\label{equ:H}\n",
    "\\end{equation}\n",
    "Input: the matrix $M$\n",
    "\n",
    "Output: the correlation matrix for the ground state of $H$"
   ]
  },
  {
   "cell_type": "code",
   "execution_count": 4,
   "id": "82d0fb22",
   "metadata": {},
   "outputs": [],
   "source": [
    "def Ising_mat(L):\n",
    "    # H_Ising = i/2 sum_{k} [ gamma_k gamma_{k+1} - gamma_{k+1} gamma_k ] with periodic boundary condition gamma_{2L+1} = - gamma_1\n",
    "    M_ij = np.zeros([2*L, 2*L])\n",
    "    for k in range(2*L-1):\n",
    "        M_ij[k,k+1] = 1\n",
    "        M_ij[k+1,k] = -1\n",
    "    M_ij[2*L-1,0] = -1\n",
    "    M_ij[0,2*L-1] = 1\n",
    "    return M_ij\n",
    "\n",
    "def Ising_correlation_mat(L):\n",
    "    C_ij = np.zeros([2*L,2*L])\n",
    "    for i in range(2*L):\n",
    "        for j in range(i+1, 2*L, 2):\n",
    "            C_ij[i,j] = 1/(np.sin(np.pi/(2*L)*(i-j))*L)\n",
    "            C_ij[j,i] = - C_ij[i,j]\n",
    "    return C_ij"
   ]
  },
  {
   "cell_type": "code",
   "execution_count": 6,
   "id": "d00405c8",
   "metadata": {},
   "outputs": [
    {
     "data": {
      "text/plain": [
       "array([[ 0.        , -0.66666667,  0.        , -0.33333333,  0.        ,\n",
       "        -0.66666667],\n",
       "       [ 0.66666667,  0.        , -0.66666667,  0.        , -0.33333333,\n",
       "         0.        ],\n",
       "       [ 0.        ,  0.66666667,  0.        , -0.66666667,  0.        ,\n",
       "        -0.33333333],\n",
       "       [ 0.33333333,  0.        ,  0.66666667,  0.        , -0.66666667,\n",
       "         0.        ],\n",
       "       [ 0.        ,  0.33333333,  0.        ,  0.66666667,  0.        ,\n",
       "        -0.66666667],\n",
       "       [ 0.66666667,  0.        ,  0.33333333,  0.        ,  0.66666667,\n",
       "         0.        ]])"
      ]
     },
     "execution_count": 6,
     "metadata": {},
     "output_type": "execute_result"
    }
   ],
   "source": [
    "correlation_mat(Ising_mat(L = 3))"
   ]
  },
  {
   "cell_type": "code",
   "execution_count": 5,
   "id": "e527e0e0",
   "metadata": {},
   "outputs": [
    {
     "data": {
      "text/plain": [
       "True"
      ]
     },
     "execution_count": 5,
     "metadata": {},
     "output_type": "execute_result"
    }
   ],
   "source": [
    "L = 10\n",
    "np.allclose(correlation_mat(Ising_mat(L)), Ising_correlation_mat(L))"
   ]
  },
  {
   "cell_type": "markdown",
   "id": "41c18129",
   "metadata": {},
   "source": [
    "## Function: ground_state_energy(M)\n",
    "Input: the matrix $M$\n",
    "\n",
    "Output: the ground state energy of $H$"
   ]
  },
  {
   "cell_type": "code",
   "execution_count": 8,
   "id": "6ff1e668",
   "metadata": {},
   "outputs": [
    {
     "data": {
      "text/plain": [
       "-4.0"
      ]
     },
     "execution_count": 8,
     "metadata": {},
     "output_type": "execute_result"
    }
   ],
   "source": [
    "ground_state_energy(Ising_mat(L = 3))"
   ]
  },
  {
   "cell_type": "code",
   "execution_count": 12,
   "id": "89a8af8b",
   "metadata": {},
   "outputs": [],
   "source": [
    "def Ising_H_def(L, g):\n",
    "    mat = np.zeros([2**L,2**L])\n",
    "    # Pauli Matrices\n",
    "    sigma_x = np.array([[0,1],[1,0]])\n",
    "    sigma_z = np.array([[1,0],[0,-1]])\n",
    "    id2 = np.array([[1,0],[0,1]])\n",
    "    for i in range(L):\n",
    "        ## X_i X_i+1\n",
    "        if i == 0 or i == L-1:\n",
    "            XX = sigma_x\n",
    "        else:\n",
    "            XX = id2\n",
    "        for j in range(1,L):\n",
    "            if j == i or j == i+1:\n",
    "                XX = np.kron(XX, sigma_x)\n",
    "            else:\n",
    "                XX = np.kron(XX, id2)  \n",
    "        ## Z_i\n",
    "        if i == 0:\n",
    "            Z = sigma_z\n",
    "        else: \n",
    "            Z = id2\n",
    "        for j in range(1,L):\n",
    "            if j == i:\n",
    "                Z = np.kron(Z,sigma_z)\n",
    "            else:\n",
    "                Z = np.kron(Z,id2)\n",
    "\n",
    "        mat -= (XX + g*Z)\n",
    "    return mat"
   ]
  },
  {
   "cell_type": "code",
   "execution_count": 13,
   "id": "7a6a0d46",
   "metadata": {},
   "outputs": [
    {
     "name": "stdout",
     "output_type": "stream",
     "text": [
      "-4.0\n"
     ]
    }
   ],
   "source": [
    "eigv = LA.eigvalsh(Ising_H_def(L=3, g=1))\n",
    "print(eigv[0])"
   ]
  },
  {
   "cell_type": "code",
   "execution_count": null,
   "id": "d3cf6117",
   "metadata": {},
   "outputs": [],
   "source": []
  }
 ],
 "metadata": {
  "kernelspec": {
   "display_name": "Python 3 (ipykernel)",
   "language": "python",
   "name": "python3"
  },
  "language_info": {
   "codemirror_mode": {
    "name": "ipython",
    "version": 3
   },
   "file_extension": ".py",
   "mimetype": "text/x-python",
   "name": "python",
   "nbconvert_exporter": "python",
   "pygments_lexer": "ipython3",
   "version": "3.7.2"
  }
 },
 "nbformat": 4,
 "nbformat_minor": 5
}
