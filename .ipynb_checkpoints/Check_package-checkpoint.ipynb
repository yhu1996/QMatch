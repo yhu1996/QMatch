{
 "cells": [
  {
   "cell_type": "markdown",
   "id": "a27b8542",
   "metadata": {},
   "source": [
    "# check Gaussian-Fermion package"
   ]
  },
  {
   "cell_type": "markdown",
   "id": "618b62ff",
   "metadata": {},
   "source": [
    "## import the package"
   ]
  },
  {
   "cell_type": "code",
   "execution_count": 2,
   "id": "10e8abe0",
   "metadata": {},
   "outputs": [],
   "source": [
    "from fermion_gaussian import *"
   ]
  },
  {
   "cell_type": "code",
   "execution_count": 1,
   "id": "ee483547",
   "metadata": {},
   "outputs": [],
   "source": [
    "import numpy as np"
   ]
  },
  {
   "cell_type": "markdown",
   "id": "dee25753",
   "metadata": {},
   "source": [
    "## Function: correlation_mat(M)\n",
    "Given a free fermion Hamiltonian taking the following form,\n",
    "\\begin{equation}\n",
    "H ~=~ \\frac{i}{2}\\,\\sum_{i,j=1}^{2L}\\,M_{ij}\\,\\gamma_i\\,\\gamma_j\n",
    "\\label{equ:H}\n",
    "\\end{equation}\n",
    "Input: the matrix $M$\n",
    "\n",
    "Output: the correlation matrix for the ground state of $H$"
   ]
  },
  {
   "cell_type": "code",
   "execution_count": 4,
   "id": "d2684b7e",
   "metadata": {},
   "outputs": [],
   "source": [
    "def Ising_mat(L):\n",
    "    # H_Ising = i/2 sum_{k} [ gamma_k gamma_{k+1} - gamma_{k+1} gamma_k ] with periodic boundary condition gamma_{2L+1} = - gamma_1\n",
    "    M_ij = np.zeros([2*L, 2*L])\n",
    "    for k in range(2*L-1):\n",
    "        M_ij[k,k+1] = 1\n",
    "        M_ij[k+1,k] = -1\n",
    "    M_ij[2*L-1,0] = -1\n",
    "    M_ij[0,2*L-1] = 1\n",
    "    return M_ij\n",
    "\n",
    "def Ising_correlation_mat(L):\n",
    "    C_ij = np.zeros([2*L,2*L])\n",
    "    for i in range(2*L):\n",
    "        for j in range(i+1, 2*L, 2):\n",
    "            C_ij[i,j] = 1/(np.sin(np.pi/(2*L)*(i-j))*L)\n",
    "            C_ij[j,i] = - C_ij[i,j]\n",
    "    return C_ij"
   ]
  },
  {
   "cell_type": "code",
   "execution_count": 6,
   "id": "58616b94",
   "metadata": {},
   "outputs": [
    {
     "data": {
      "text/plain": [
       "array([[ 0.        , -0.66666667,  0.        , -0.33333333,  0.        ,\n",
       "        -0.66666667],\n",
       "       [ 0.66666667,  0.        , -0.66666667,  0.        , -0.33333333,\n",
       "         0.        ],\n",
       "       [ 0.        ,  0.66666667,  0.        , -0.66666667,  0.        ,\n",
       "        -0.33333333],\n",
       "       [ 0.33333333,  0.        ,  0.66666667,  0.        , -0.66666667,\n",
       "         0.        ],\n",
       "       [ 0.        ,  0.33333333,  0.        ,  0.66666667,  0.        ,\n",
       "        -0.66666667],\n",
       "       [ 0.66666667,  0.        ,  0.33333333,  0.        ,  0.66666667,\n",
       "         0.        ]])"
      ]
     },
     "execution_count": 6,
     "metadata": {},
     "output_type": "execute_result"
    }
   ],
   "source": [
    "correlation_mat(Ising_mat(L = 3))"
   ]
  },
  {
   "cell_type": "code",
   "execution_count": 5,
   "id": "0377e371",
   "metadata": {},
   "outputs": [
    {
     "data": {
      "text/plain": [
       "True"
      ]
     },
     "execution_count": 5,
     "metadata": {},
     "output_type": "execute_result"
    }
   ],
   "source": [
    "L = 10\n",
    "np.allclose(correlation_mat(Ising_mat(L)), Ising_correlation_mat(L))"
   ]
  },
  {
   "cell_type": "markdown",
   "id": "583e8f55",
   "metadata": {},
   "source": [
    "## Function: ground_state_energy(M)\n",
    "Input: the matrix $M$\n",
    "\n",
    "Output: the ground state energy of $H$"
   ]
  },
  {
   "cell_type": "code",
   "execution_count": null,
   "id": "bd639368",
   "metadata": {},
   "outputs": [],
   "source": []
  }
 ],
 "metadata": {
  "kernelspec": {
   "display_name": "Python 3 (ipykernel)",
   "language": "python",
   "name": "python3"
  },
  "language_info": {
   "codemirror_mode": {
    "name": "ipython",
    "version": 3
   },
   "file_extension": ".py",
   "mimetype": "text/x-python",
   "name": "python",
   "nbconvert_exporter": "python",
   "pygments_lexer": "ipython3",
   "version": "3.7.2"
  }
 },
 "nbformat": 4,
 "nbformat_minor": 5
}
