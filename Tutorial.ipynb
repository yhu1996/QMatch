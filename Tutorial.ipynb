{
 "cells": [
  {
   "cell_type": "markdown",
   "id": "68d2ecb0",
   "metadata": {},
   "source": [
    "# $\\mathfrak{QMatch}$\n",
    "\n",
    "In this tutorial, we introduce the package QMatch by \n",
    "- listing all functions\n",
    "- explaining their inputs & outputs\n",
    "- giving examples and some cross-checks"
   ]
  },
  {
   "cell_type": "markdown",
   "id": "778d9aab",
   "metadata": {},
   "source": [
    "## Function List\n",
    "\n",
    "### Functions that are general \n",
    "- correlation_mat(M: ndarray) -> ndarray\n",
    "- \n",
    "\n",
    "### Functions for critical Ising\n",
    "- Ising_Hamiltonian_mat(L)\n",
    "- Ising_correlation_mat(L)\n",
    "- "
   ]
  },
  {
   "cell_type": "markdown",
   "id": "eb8371a7",
   "metadata": {},
   "source": [
    "## Import the package"
   ]
  },
  {
   "cell_type": "code",
   "execution_count": 1,
   "id": "57a5bb8f",
   "metadata": {},
   "outputs": [],
   "source": [
    "from QMatch import *"
   ]
  },
  {
   "cell_type": "markdown",
   "id": "b58037b6",
   "metadata": {},
   "source": [
    "#### import other packages needed for demonstrations"
   ]
  },
  {
   "cell_type": "code",
   "execution_count": 2,
   "id": "8a2701b4",
   "metadata": {},
   "outputs": [],
   "source": [
    "import numpy as np\n",
    "from numpy import linalg as LA"
   ]
  },
  {
   "cell_type": "markdown",
   "id": "9a221d55",
   "metadata": {},
   "source": [
    "## $\\color{purple}{\\rm Function:}$ correlation_mat(M: ndarray) -> ndarray\n",
    "Given a free fermion Hamiltonian taking the following form,\n",
    "\\begin{equation}\n",
    "H ~=~ \\frac{i}{2}\\,\\sum_{i,j=1}^{2L}\\,M_{ij}\\,\\gamma_i\\,\\gamma_j\n",
    "\\end{equation}\n",
    "Input: \n",
    "- the matrix $M$: ndarray \n",
    "\n",
    "Output: \n",
    "- the correlation matrix for the ground state of $H$: ndarray"
   ]
  },
  {
   "cell_type": "markdown",
   "id": "4f9d9e44",
   "metadata": {},
   "source": [
    "### $\\color{green}{\\rm Example:}$ \n",
    "here we compute the correlation matrix of critical Ising ground state with the system size $L$, thus the output is a $2L\\times 2L$ antisymmetric matrix. \n",
    "\n",
    "First, we need the matrix $M$ for the critical Ising Hamiltonian with the system size L. The Hamiltonian reads\n",
    "$$\n",
    "H_{\\rm Ising} ~=~ \\frac{i}{2} \\sum_{k=1}^{2L} \\Big[ \\gamma_k \\gamma_{k+1} - \\gamma_{k+1} \\gamma_k \\Big] \n",
    "$$\n",
    "with periodic boundary condition $\\gamma_{2L+1} = - \\gamma_1$"
   ]
  },
  {
   "cell_type": "code",
   "execution_count": 3,
   "id": "d00405c8",
   "metadata": {
    "scrolled": true
   },
   "outputs": [
    {
     "data": {
      "text/plain": [
       "array([[ 0.        , -0.66666667,  0.        , -0.33333333,  0.        ,\n",
       "        -0.66666667],\n",
       "       [ 0.66666667,  0.        , -0.66666667,  0.        , -0.33333333,\n",
       "         0.        ],\n",
       "       [ 0.        ,  0.66666667,  0.        , -0.66666667,  0.        ,\n",
       "        -0.33333333],\n",
       "       [ 0.33333333,  0.        ,  0.66666667,  0.        , -0.66666667,\n",
       "         0.        ],\n",
       "       [ 0.        ,  0.33333333,  0.        ,  0.66666667,  0.        ,\n",
       "        -0.66666667],\n",
       "       [ 0.66666667,  0.        ,  0.33333333,  0.        ,  0.66666667,\n",
       "         0.        ]])"
      ]
     },
     "execution_count": 3,
     "metadata": {},
     "output_type": "execute_result"
    }
   ],
   "source": [
    "correlation_mat(Ising_Hamiltonian_mat(L = 3))"
   ]
  },
  {
   "cell_type": "markdown",
   "id": "eabcb8f9",
   "metadata": {},
   "source": [
    "### $\\color{green}{\\rm Cross-check:}$ \n",
    "check correlation matrix of critical Ising ground state \n",
    "We compare the result obtained by the function correlation_mat with the analytic result for the correlation matrix of critical Ising ground state with the system size $L$, which is \n",
    "$$\n",
    "G^{\\rm Ising}_{jl} ~=~ \n",
    "    \\begin{cases}\n",
    "        0 \\qquad\\qquad\\qquad\\quad j-l~\\text{is even} \\\\\n",
    "        1/\\left[L\\, \\sin\\frac{\\pi}{2L}(j-l) \\right] ~~ j-l~\\text{is odd} \\\\\n",
    "    \\end{cases}\n",
    "$$"
   ]
  },
  {
   "cell_type": "code",
   "execution_count": 4,
   "id": "e527e0e0",
   "metadata": {},
   "outputs": [
    {
     "data": {
      "text/plain": [
       "True"
      ]
     },
     "execution_count": 4,
     "metadata": {},
     "output_type": "execute_result"
    }
   ],
   "source": [
    "np.allclose(correlation_mat(Ising_Hamiltonian_mat(L=10)), Ising_correlation_mat(L=10))"
   ]
  },
  {
   "cell_type": "markdown",
   "id": "41c18129",
   "metadata": {},
   "source": [
    "## $\\color{purple}{\\rm Function:}$ ground_state_energy(M)\n",
    "Input: the matrix $M$ in the Hamiltonian $$H ~=~ \\frac{i}{2}\\,\\sum_{i,j=1}^{2L}\\,M_{ij}\\,\\gamma_i\\,\\gamma_j$$ \n",
    "\n",
    "Output: the ground state energy $E_{\\rm GS}$"
   ]
  },
  {
   "cell_type": "markdown",
   "id": "76883afe",
   "metadata": {},
   "source": [
    "### $\\color{green}{\\rm Example:}$ \n",
    "ground state energy for critical Ising with system size $L$"
   ]
  },
  {
   "cell_type": "code",
   "execution_count": 5,
   "id": "6ff1e668",
   "metadata": {},
   "outputs": [
    {
     "data": {
      "text/plain": [
       "-4.0"
      ]
     },
     "execution_count": 5,
     "metadata": {},
     "output_type": "execute_result"
    }
   ],
   "source": [
    "ground_state_energy(Ising_Hamiltonian_mat(L = 3))"
   ]
  },
  {
   "cell_type": "markdown",
   "id": "f24225c3",
   "metadata": {},
   "source": [
    "### $\\color{green}{\\rm Cross-check:}$ \n",
    "check the ground state energy result \n",
    "\n",
    "Again, we consider the critical Ising model with $L$ spins. Its Hamiltonian reads\n",
    "$$\n",
    "H_{\\rm critical~Ising} ~=~ -\\,\\sum_{i=1}^L\\left( X_i\\,X_{i+1} + Z_i \\right)\n",
    "$$"
   ]
  },
  {
   "cell_type": "code",
   "execution_count": 6,
   "id": "7a6a0d46",
   "metadata": {},
   "outputs": [
    {
     "name": "stdout",
     "output_type": "stream",
     "text": [
      "-4.0\n"
     ]
    }
   ],
   "source": [
    "eigv = LA.eigvalsh(Ising_H_def(L=3, g=1))\n",
    "print(eigv[0])"
   ]
  },
  {
   "cell_type": "markdown",
   "id": "c8a43f07",
   "metadata": {},
   "source": [
    "## $\\color{purple}{\\rm Function:}$ get_Grho_A(Grho, siteL, siteR)\n",
    "This function computes the correlation matrix $G^{\\rho_A}$ for a reduced density matrix $\\rho_A$.\n",
    "\n",
    "Inputs: \n",
    "- G_rho: the correlation matrix $G^{\\rho}$ for $\\rho$, which is a $2L\\times2L$ matrix, namely the system is composed by $L$ spins\n",
    "- siteL: the region $A$ starts from the $({\\rm siteL}-1)$-th spin, siteL $\\in [0,L-1]$\n",
    "- siteR: the region $A$ ends at the siteR-th spin, siteR $\\in [1,L]$\n",
    "\n",
    "Output: \n",
    "- the correlation matrix for $\\rho_A$"
   ]
  },
  {
   "cell_type": "markdown",
   "id": "058dd2fa",
   "metadata": {},
   "source": [
    "### $\\color{green}{\\rm Example:}$ \n",
    "consider critical Ising ground state with $L = 3$ and subregion $A$ is the first spin.  Thus the resulting correlation matrix should be the first $2x2$ block, i.e. \n",
    "$$\n",
    "\\begin{pmatrix}\n",
    "0 & -2/3\\\\\n",
    "2/3 & 0 \n",
    "\\end{pmatrix}\n",
    "$$"
   ]
  },
  {
   "cell_type": "code",
   "execution_count": 7,
   "id": "5338dc96",
   "metadata": {},
   "outputs": [
    {
     "data": {
      "text/plain": [
       "array([[ 0.        , -0.66666667],\n",
       "       [ 0.66666667,  0.        ]])"
      ]
     },
     "execution_count": 7,
     "metadata": {},
     "output_type": "execute_result"
    }
   ],
   "source": [
    "G_rho = correlation_mat(Ising_Hamiltonian_mat(L = 3))\n",
    "get_Grho_A(G_rho, 0, 1)"
   ]
  },
  {
   "cell_type": "markdown",
   "id": "111128c1",
   "metadata": {},
   "source": [
    "## $\\color{purple}{\\rm Function:}$ tensor_prod(G1, G2)\n",
    "This function compute the correlation matrix for a tensor product state. \n",
    "\n",
    "Inputs:\n",
    "- G1: the correlation matrix $G^{\\rho_1}$ for $\\rho_1$\n",
    "- G2: the correlation matrix $G^{\\rho_2}$ for $\\rho_2$\n",
    "\n",
    "Output: \n",
    "- the correlation matrix $G^{\\rho_1\\otimes\\rho_2}$ for $\\rho_1\\otimes\\rho_2$"
   ]
  },
  {
   "cell_type": "markdown",
   "id": "ff06b2c3",
   "metadata": {},
   "source": [
    "### $\\color{green}{\\rm Example:}$ \n",
    "consider \n",
    "- $\\rho_1$ is the reduced density matrix for critical Ising ground state with $L=3$ and subregion $A$ is the first spin. Namely, \n",
    "$$ G^{\\rho_1} ~=~ \n",
    "\\begin{pmatrix}\n",
    "0 & -2/3\\\\\n",
    "2/3 & 0 \n",
    "\\end{pmatrix}\n",
    "$$\n",
    "- $\\rho_2 = \\frac{1}{2}\\mathbb{I}_2$. Thus $G^{\\rho_2}$ is a zero matrix, \n",
    "$$\n",
    "G^{\\rho_2} ~=~ \n",
    "\\begin{pmatrix}\n",
    "0 & 0\\\\\n",
    "0 & 0 \n",
    "\\end{pmatrix}\n",
    "$$\n",
    "\n",
    "The result should be \n",
    "$$\n",
    "G^{\\rho_1\\otimes \\rho_2} ~=~ \n",
    "\\begin{pmatrix}\n",
    "0 & -2/3 & 0 & 0\\\\\n",
    "2/3 & 0  & 0 & 0 \\\\\n",
    "0 & 0 & 0 & 0 \\\\\n",
    "0 & 0 & 0 & 0 \\\\\n",
    "\\end{pmatrix}\n",
    "$$"
   ]
  },
  {
   "cell_type": "code",
   "execution_count": 8,
   "id": "309f2699",
   "metadata": {},
   "outputs": [
    {
     "data": {
      "text/plain": [
       "array([[ 0.        , -0.66666667,  0.        ,  0.        ],\n",
       "       [ 0.66666667,  0.        ,  0.        ,  0.        ],\n",
       "       [ 0.        ,  0.        ,  0.        ,  0.        ],\n",
       "       [ 0.        ,  0.        ,  0.        ,  0.        ]])"
      ]
     },
     "execution_count": 8,
     "metadata": {},
     "output_type": "execute_result"
    }
   ],
   "source": [
    "G_rho = correlation_mat(Ising_Hamiltonian_mat(L = 3))\n",
    "G1 = get_Grho_A(G_rho, 0, 1)\n",
    "G2 = np.zeros([2,2])\n",
    "tensor_prod(G1, G2)"
   ]
  },
  {
   "cell_type": "markdown",
   "id": "9f1ccbdf",
   "metadata": {},
   "source": [
    "## $\\color{purple}{\\rm Function:}$ vn_entropy(Grho)\n",
    "This function compute the von Neumann Entropy. \n",
    "\n",
    "Input: \n",
    "- the correlation matrix $G^{\\rho}$ for the state $\\rho$\n",
    "\n",
    "Output: \n",
    "- the von Neumann Entropy for the state $\\rho$, i.e.\n",
    "$$S(\\rho)=-{\\rm Tr}(\\rho\\log\\rho)$$"
   ]
  },
  {
   "cell_type": "markdown",
   "id": "0bbd8bff",
   "metadata": {},
   "source": [
    "### $\\color{green}{\\rm Example:}$ \n",
    "Consider $\\rho$ to be crtical Ising ground state with $L=10$, and its reduced density matrix $\\rho_A$ where $L_A = 5$. "
   ]
  },
  {
   "cell_type": "code",
   "execution_count": 9,
   "id": "22671a60",
   "metadata": {},
   "outputs": [],
   "source": [
    "G_rho = correlation_mat(Ising_Hamiltonian_mat(L = 10))\n",
    "G_rho_A = get_Grho_A(G_rho, 0, 5)"
   ]
  },
  {
   "cell_type": "markdown",
   "id": "c320b97a",
   "metadata": {},
   "source": [
    "Since now $\\rho$ is a pure state, it has vanishing entropy. "
   ]
  },
  {
   "cell_type": "code",
   "execution_count": 10,
   "id": "5c727c1b",
   "metadata": {},
   "outputs": [
    {
     "data": {
      "text/plain": [
       "0"
      ]
     },
     "execution_count": 10,
     "metadata": {},
     "output_type": "execute_result"
    }
   ],
   "source": [
    "vn_entropy(G_rho)"
   ]
  },
  {
   "cell_type": "markdown",
   "id": "507d7080",
   "metadata": {},
   "source": [
    "For $\\rho_A$, it has nonzero entropy. "
   ]
  },
  {
   "cell_type": "code",
   "execution_count": 13,
   "id": "6c1e8e26",
   "metadata": {},
   "outputs": [
    {
     "data": {
      "text/plain": [
       "0.6720147574191525"
      ]
     },
     "execution_count": 13,
     "metadata": {},
     "output_type": "execute_result"
    }
   ],
   "source": [
    "vn_entropy(G_rho_A)"
   ]
  },
  {
   "cell_type": "markdown",
   "id": "d3e9975d",
   "metadata": {},
   "source": [
    "### $\\color{green}{\\rm Cross-check:}$ \n",
    "We compare with the result obtained by exact diagonalization. "
   ]
  },
  {
   "cell_type": "code",
   "execution_count": 14,
   "id": "69b5464e",
   "metadata": {},
   "outputs": [
    {
     "data": {
      "text/plain": [
       "0.672014753864282"
      ]
     },
     "execution_count": 14,
     "metadata": {},
     "output_type": "execute_result"
    }
   ],
   "source": [
    "Ising_SvN_exact_diag(L_A = 5, L=10)"
   ]
  },
  {
   "cell_type": "markdown",
   "id": "985a7a19",
   "metadata": {},
   "source": [
    "## Fermionic Gaussian Channel\n",
    "A fermionic Gaussian channel $\\mathcal{E}$ the following Grassmann representation \n",
    "$$\n",
    "\\omega\\left( {\\cal E}(X), \\theta\\right) ~=~ \\int D\\mu D\\eta\\, \\exp\\Big[ \\frac{i}{2}\\,\\theta^{\\rm T}A\\,\\theta ~+~ i\\,\\theta^{\\rm T}B\\,\\eta \\,+\\, i\\eta^{\\rm T}\\mu \\Big]\\,\\omega(X,\\mu)\n",
    "$$\n",
    "where \n",
    "- $X$ is the input fermionic state composed of $2L$ Majorana fermions or equivalently $L$ spins. \n",
    "- $A$ and $B$ are complex antisymmetric $2L\\times 2L$ matrices. The fermionic Gaussian channel can be completely determined by $A$ and $B$. "
   ]
  },
  {
   "cell_type": "markdown",
   "id": "70f2ab50",
   "metadata": {},
   "source": [
    "## $\\color{purple}{\\rm Function:}$ erasure_channel(L = int, L_erasure = int)\n",
    "This function yields the "
   ]
  },
  {
   "cell_type": "markdown",
   "id": "98ce3fb4",
   "metadata": {},
   "source": [
    "## $\\color{purple}{\\rm Function:}$ Gaussian_channel(A, B, Grho)\n",
    "This function compute the new correlation matrix $G^{\\mathcal{E}(\\rho)}$ after a Gaussian linear map $\\mathcal{E}$ acting on $\\rho$. \n",
    "\n",
    "Input: \n",
    "- Grho: the original correlation matrix $G^{\\rho}$ for $\\rho$\n",
    "- A, B: matrices in the integral representation of the fermionic Gaussian channel $\\mathcal{E}$\n",
    "\n",
    "Output: \n",
    "- the new correlation matrix $G^{\\mathcal{E}(\\rho)}$"
   ]
  },
  {
   "cell_type": "markdown",
   "id": "14697632",
   "metadata": {},
   "source": [
    "### $\\color{green}{\\rm Example:}$ \n",
    "Consider the erasure channel"
   ]
  },
  {
   "cell_type": "code",
   "execution_count": null,
   "id": "e3aecd03",
   "metadata": {},
   "outputs": [],
   "source": []
  }
 ],
 "metadata": {
  "kernelspec": {
   "display_name": "Python 3 (ipykernel)",
   "language": "python",
   "name": "python3"
  },
  "language_info": {
   "codemirror_mode": {
    "name": "ipython",
    "version": 3
   },
   "file_extension": ".py",
   "mimetype": "text/x-python",
   "name": "python",
   "nbconvert_exporter": "python",
   "pygments_lexer": "ipython3",
   "version": "3.7.2"
  }
 },
 "nbformat": 4,
 "nbformat_minor": 5
}
