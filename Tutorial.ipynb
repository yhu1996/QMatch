{
 "cells": [
  {
   "cell_type": "markdown",
   "id": "68d2ecb0",
   "metadata": {},
   "source": [
    "# ${\\mathfrak{QMatch}}$\n",
    "\n",
    "In this tutorial, we introduce the package $\\mathfrak{QMatch}$ by \n",
    "- explaining functions \n",
    "- giving examples and some cross-checks\n",
    "\n",
    "$\\mathfrak{QMatch}$ is devoted to simulate $Gaussian$ $states$ and $Gaussian$ $operations$ for $1+1$ dimensional models with Hamiltonians that can be expressed in the form of free fermions. \n",
    "\n",
    "This package focuses on frequently-used quantities and operations for quantum states and computes/simulates them by applying the free fermion formulism. Thus, the central object of study is the correlation matrix, given which the fermionic Gaussian state can be completely determined. Functions in this package mainly work with the correlation matrices. \n",
    "\n",
    "See the following references for a thorough review on fermionic Gaussian states and Gaussian linear maps. \n",
    "- S. Bravyi, Lagrangian representation for fermionic linear optics, https://arxiv.org/abs/quant-ph/0404180\n",
    "- B. G. Swingle and Y. Wang, Recovery map for fermionic Gaussian channels, J. Math. Phys. 60, 072202 (2019), https://arxiv.org/abs/1811.04956\n",
    "- Appendix A of Y. Hu and Y. Zou, Petz map recovery for long-range entangled quantum many-body states "
   ]
  },
  {
   "cell_type": "markdown",
   "id": "a95c4e29-b0a8-47d6-a175-8dc641f393f6",
   "metadata": {},
   "source": [
    "## List of functions\n",
    "- ground state correlation matrix: **GroundStateCorrMtx(M: np.ndarray) -> np.ndarray**\n",
    "- ground state energy: **ground_state_energy(M: np.ndarray) -> float**\n",
    "- tracing: **reduced_CorrMtx(Grho: np.ndarray, siteL: int, siteR: int) -> np.ndarray**\n",
    "- tensor product: **tensor_prod(G1: np.ndarray, G2: np.ndarray) -> : np.ndarray**\n",
    "- von Neumann Entropy: **vn_entropy(Grho: np.ndarray) -> float**\n",
    "- Conditional mutual information: **CMI(Grho: np.ndarray, La: int, Lb: int, Lc: int) -> float**\n",
    "- Fidelity: **Fidelity(Grho: np.ndarray, Gsigma: np.ndarray) -> float**\n",
    "- Gaussian channel: **Gaussian_channel(A: np.ndarray, B: np.ndarray, Grho: np.ndarray) -> : np.ndarray**\n",
    "- Erasure channel: **erasure_channel(Grho: np.ndarray, L1: int, L2: int) -> np.ndarray**\n",
    "- Petz recovery map:\n",
    "- roated Petz recovery map:\n",
    "- Z measurement: "
   ]
  },
  {
   "cell_type": "markdown",
   "id": "eb8371a7",
   "metadata": {},
   "source": [
    "# Import QMatch"
   ]
  },
  {
   "cell_type": "code",
   "execution_count": 1,
   "id": "57a5bb8f",
   "metadata": {},
   "outputs": [],
   "source": [
    "from QMatch import *"
   ]
  },
  {
   "cell_type": "markdown",
   "id": "b58037b6",
   "metadata": {},
   "source": [
    "## import other packages needed for demonstrations"
   ]
  },
  {
   "cell_type": "code",
   "execution_count": 2,
   "id": "8a2701b4",
   "metadata": {},
   "outputs": [],
   "source": [
    "import numpy as np\n",
    "from numpy import linalg as LA"
   ]
  },
  {
   "cell_type": "markdown",
   "id": "4adaa084-30ae-46ad-b462-975b5577bf01",
   "metadata": {},
   "source": [
    "# Fermionic Gaussian States"
   ]
  },
  {
   "cell_type": "markdown",
   "id": "9a221d55",
   "metadata": {},
   "source": [
    "## Correlation matrix\n",
    "\n",
    "Given a free fermion Hamiltonian taking the following form,\n",
    "\\begin{equation}\n",
    "H ~=~ \\frac{i}{2}\\,\\sum_{i,j=1}^{2L}\\,M_{ij}\\,\\gamma_i\\,\\gamma_j\n",
    "\\end{equation}\n",
    "Function \n",
    "**GroundStateCorrMtx(M: np.ndarray) -> np.ndarray**\n",
    "computes the correlation matrix for the ground state of $H$\n",
    "\n",
    "Input: \n",
    "- the matrix $M$: a $2L\\times 2L$ dimensional real and antisymmetric matrix. \n",
    "\n",
    "Output: \n",
    "- the correlation matrix for the ground state of $H$: np.ndarray"
   ]
  },
  {
   "cell_type": "markdown",
   "id": "4f9d9e44",
   "metadata": {},
   "source": [
    "### Example\n",
    "Here we compute the correlation matrix of critical Ising ground state with the system size $L$, thus the output is a $2L\\times 2L$ antisymmetric matrix. \n",
    "The Hamiltonian reads\n",
    "$$\n",
    "H_{\\rm Ising} ~=~ \\frac{i}{2} \\sum_{k=1}^{2L} \\Big[ \\gamma_k \\gamma_{k+1} - \\gamma_{k+1} \\gamma_k \\Big] \n",
    "$$\n",
    "with periodic boundary condition $\\gamma_{2L+1} = - \\gamma_1$. \n",
    "\n",
    "The matrix $M$ can be read off from the above equation and the function $\\color{purple}{\\rm Ising\\_Hamiltonian\\_M}(L)$ has been built to compute $M$. "
   ]
  },
  {
   "cell_type": "code",
   "execution_count": 12,
   "id": "084963d5-4667-4401-9547-98bd08b230d1",
   "metadata": {},
   "outputs": [
    {
     "data": {
      "text/plain": [
       "array([[ 0.,  1.,  0.,  0.,  0.,  1.],\n",
       "       [-1.,  0.,  1.,  0.,  0.,  0.],\n",
       "       [ 0., -1.,  0.,  1.,  0.,  0.],\n",
       "       [ 0.,  0., -1.,  0.,  1.,  0.],\n",
       "       [ 0.,  0.,  0., -1.,  0.,  1.],\n",
       "       [-1.,  0.,  0.,  0., -1.,  0.]])"
      ]
     },
     "execution_count": 12,
     "metadata": {},
     "output_type": "execute_result"
    }
   ],
   "source": [
    "Ising_Hamiltonian_M(L = 3)"
   ]
  },
  {
   "cell_type": "markdown",
   "id": "4590de60-c34d-4ca7-ad63-c2ab63fd2e0d",
   "metadata": {},
   "source": [
    "Thus, the correlation matrix in this case can be obtained as follows."
   ]
  },
  {
   "cell_type": "code",
   "execution_count": 13,
   "id": "d00405c8",
   "metadata": {
    "scrolled": true
   },
   "outputs": [
    {
     "data": {
      "text/plain": [
       "array([[ 0.        , -0.66666667,  0.        , -0.33333333,  0.        ,\n",
       "        -0.66666667],\n",
       "       [ 0.66666667,  0.        , -0.66666667,  0.        , -0.33333333,\n",
       "         0.        ],\n",
       "       [ 0.        ,  0.66666667,  0.        , -0.66666667,  0.        ,\n",
       "        -0.33333333],\n",
       "       [ 0.33333333,  0.        ,  0.66666667,  0.        , -0.66666667,\n",
       "         0.        ],\n",
       "       [ 0.        ,  0.33333333,  0.        ,  0.66666667,  0.        ,\n",
       "        -0.66666667],\n",
       "       [ 0.66666667,  0.        ,  0.33333333,  0.        ,  0.66666667,\n",
       "         0.        ]])"
      ]
     },
     "execution_count": 13,
     "metadata": {},
     "output_type": "execute_result"
    }
   ],
   "source": [
    "GroundStateCorrMtx(Ising_Hamiltonian_M(L = 3))"
   ]
  },
  {
   "cell_type": "markdown",
   "id": "eabcb8f9",
   "metadata": {},
   "source": [
    "### Cross-check\n",
    "To check correlation matrix of critical Ising ground state, we compare the result obtained above with the analytic result, which is \n",
    "$$\n",
    "G^{\\rm Ising}_{jl} ~=~ \n",
    "    \\begin{cases}\n",
    "        0 \\qquad\\qquad\\qquad\\qquad~ j-l~\\text{is even} \\\\\n",
    "        1/\\left[L\\, \\sin\\frac{\\pi}{2L}(j-l) \\right] ~~ j-l~\\text{is odd} \\\\\n",
    "    \\end{cases}\n",
    "$$\n",
    "Again, the function $\\color{purple}{\\rm IsingGS\\_CorrMtx}(L)$ has been built to compute $G^{\\rm Ising}$. "
   ]
  },
  {
   "cell_type": "code",
   "execution_count": 7,
   "id": "e527e0e0",
   "metadata": {},
   "outputs": [
    {
     "data": {
      "text/plain": [
       "True"
      ]
     },
     "execution_count": 7,
     "metadata": {},
     "output_type": "execute_result"
    }
   ],
   "source": [
    "np.allclose(GroundStateCorrMtx(Ising_Hamiltonian_M(L=3)), IsingGS_CorrMtx(L=3))"
   ]
  },
  {
   "cell_type": "markdown",
   "id": "41c18129",
   "metadata": {},
   "source": [
    "## Ground state energy\n",
    "Function **ground_state_energy(M: np.ndarray) -> float** computes the ground state energy. \n",
    "\n",
    "Input: \n",
    "- the matrix $M$ in the Hamiltonian $$H ~=~ \\frac{i}{2}\\,\\sum_{i,j=1}^{2L}\\,M_{ij}\\,\\gamma_i\\,\\gamma_j$$\n",
    "- it is a $2L\\times 2L$ dimensional real and antisymmetric matrix\n",
    "\n",
    "Output: \n",
    "- the ground state energy $E_{\\rm GS}$"
   ]
  },
  {
   "cell_type": "markdown",
   "id": "76883afe",
   "metadata": {},
   "source": [
    "### Example\n",
    "the ground state energy for critical Ising with system size $L$ can be computed as follows"
   ]
  },
  {
   "cell_type": "code",
   "execution_count": 17,
   "id": "6ff1e668",
   "metadata": {},
   "outputs": [
    {
     "data": {
      "text/plain": [
       "np.float64(-4.0)"
      ]
     },
     "execution_count": 17,
     "metadata": {},
     "output_type": "execute_result"
    }
   ],
   "source": [
    "ground_state_energy(Ising_Hamiltonian_M(L = 3))"
   ]
  },
  {
   "cell_type": "markdown",
   "id": "f24225c3",
   "metadata": {},
   "source": [
    "### Cross-check\n",
    "To check the ground state energy result obtained above, we compare it with the result computed by diagonalization. \n",
    "\n",
    "Recall that the Hamiltonian for the Ising model reads\n",
    "$$\n",
    "H_{\\rm Ising} ~=~ -\\,\\sum_{i=1}^L\\left( X_i\\,X_{i+1} + g\\,Z_i \\right)\n",
    "$$\n",
    "where $X$ and $Z$ are Pauli matrices and the criticality occurs at $g=1$. This $2^L\\times 2^L$ matrix $H_{\\rm Ising}$ can be computed by the built-in function $\\color{purple}{\\rm Ising\\_H\\_def}(L,g)$. \n",
    "\n",
    "The ground state energy is the smallest eigenvalue of $H$. Namely, "
   ]
  },
  {
   "cell_type": "code",
   "execution_count": 19,
   "id": "7a6a0d46",
   "metadata": {},
   "outputs": [
    {
     "data": {
      "text/plain": [
       "np.float64(-3.9999999999999996)"
      ]
     },
     "execution_count": 19,
     "metadata": {},
     "output_type": "execute_result"
    }
   ],
   "source": [
    "eigv = LA.eigvalsh(Ising_H_def(L=3, g=1))\n",
    "eigv[0]"
   ]
  },
  {
   "cell_type": "markdown",
   "id": "c8a43f07",
   "metadata": {},
   "source": [
    "## Tracing \n",
    "Function\n",
    "**reduced_CorrMtx(Grho: np.ndarray, siteL: int, siteR: int) -> np.ndarray**\n",
    "computes the correlation matrix $G^{\\rho_A}$ for a reduced density matrix $\\rho_A$\n",
    "$$\n",
    "\\rho_A ~=~ {\\rm Tr}_A\\,\\rho\n",
    "$$\n",
    "\n",
    "Inputs: \n",
    "- Grho: the correlation matrix $G^{\\rho}$ for $\\rho$, which is a $2L\\times2L$ real, antisymmetric matrix, namely the system is composed by $L$ spins\n",
    "- siteL: the number of spins sitting on the left of $A$, siteL $\\in [0,L]$\n",
    "- siteR: the region $A$ ends at the siteR-th spin, siteR $\\in [0,L]$ (siteR $\\ge$ siteL)\n",
    "\n",
    "Output: \n",
    "- the correlation matrix for $\\rho_A$"
   ]
  },
  {
   "cell_type": "markdown",
   "id": "058dd2fa",
   "metadata": {},
   "source": [
    "### Example\n",
    "Consider the critical Ising ground state with $L = 3$ and subregion $A$ is the first spin. \n",
    "Thus the reduced correlation matrix should be the first $2x2$ block of $G^{\\rho}$, i.e. \n",
    "$$ G^{\\rho_A} ~=~ \n",
    "\\begin{pmatrix}\n",
    "0 & -2/3\\\\\n",
    "2/3 & 0 \n",
    "\\end{pmatrix} ~.\n",
    "$$\n",
    "We can see $G^{\\rho_A}$ is reproduced as follows"
   ]
  },
  {
   "cell_type": "code",
   "execution_count": 22,
   "id": "5338dc96",
   "metadata": {},
   "outputs": [
    {
     "data": {
      "text/plain": [
       "array([[ 0.        , -0.66666667],\n",
       "       [ 0.66666667,  0.        ]])"
      ]
     },
     "execution_count": 22,
     "metadata": {},
     "output_type": "execute_result"
    }
   ],
   "source": [
    "G_rho = GroundStateCorrMtx(Ising_Hamiltonian_M(L = 3))\n",
    "reduced_CorrMtx(G_rho, 0, 1)"
   ]
  },
  {
   "cell_type": "markdown",
   "id": "111128c1",
   "metadata": {},
   "source": [
    "## Tensor product\n",
    "Function\n",
    "**tensor_prod(G1: np.ndarray, G2: np.ndarray) -> : np.ndarray**\n",
    "computes the correlation matrix for a tensor product state. \n",
    "\n",
    "Inputs:\n",
    "- G1: the correlation matrix $G^{\\rho_1}$ for $\\rho_1$\n",
    "- G2: the correlation matrix $G^{\\rho_2}$ for $\\rho_2$\n",
    "\n",
    "Output: \n",
    "- the correlation matrix $G^{\\rho_1\\otimes\\rho_2}$ for $\\rho_1\\otimes\\rho_2$"
   ]
  },
  {
   "cell_type": "markdown",
   "id": "ff06b2c3",
   "metadata": {},
   "source": [
    "### Example\n",
    "consider \n",
    "- $\\rho_1$ is the reduced density matrix $\\rho_A$ for critical Ising ground state with $L=3$ and subregion $A$ is the first spin. Namely, \n",
    "$$ G^{\\rho_1} ~=~ \n",
    "\\begin{pmatrix}\n",
    "0 & -2/3\\\\\n",
    "2/3 & 0 \n",
    "\\end{pmatrix}\n",
    "$$\n",
    "- $\\rho_2 = \\frac{1}{2}\\mathbb{I}_2$. Thus $G^{\\rho_2}$ is a zero matrix, \n",
    "$$\n",
    "G^{\\rho_2} ~=~ \n",
    "\\begin{pmatrix}\n",
    "0 & 0\\\\\n",
    "0 & 0 \n",
    "\\end{pmatrix}\n",
    "$$\n",
    "\n",
    "The result should be \n",
    "$$\n",
    "G^{\\rho_1\\otimes \\rho_2} ~=~ \n",
    "\\begin{pmatrix}\n",
    "0 & -2/3 & 0 & 0\\\\\n",
    "2/3 & 0  & 0 & 0 \\\\\n",
    "0 & 0 & 0 & 0 \\\\\n",
    "0 & 0 & 0 & 0 \\\\\n",
    "\\end{pmatrix}\n",
    "$$\n",
    "which is reproduced as follows"
   ]
  },
  {
   "cell_type": "code",
   "execution_count": 23,
   "id": "309f2699",
   "metadata": {},
   "outputs": [
    {
     "data": {
      "text/plain": [
       "array([[ 0.        , -0.66666667,  0.        ,  0.        ],\n",
       "       [ 0.66666667,  0.        ,  0.        ,  0.        ],\n",
       "       [ 0.        ,  0.        ,  0.        ,  0.        ],\n",
       "       [ 0.        ,  0.        ,  0.        ,  0.        ]])"
      ]
     },
     "execution_count": 23,
     "metadata": {},
     "output_type": "execute_result"
    }
   ],
   "source": [
    "G_rho = GroundStateCorrMtx(Ising_Hamiltonian_M(L = 3))\n",
    "G1 = reduced_CorrMtx(G_rho, 0, 1)\n",
    "G2 = np.zeros([2,2])\n",
    "tensor_prod(G1, G2)"
   ]
  },
  {
   "cell_type": "markdown",
   "id": "9f1ccbdf",
   "metadata": {},
   "source": [
    "## von Neumann Entropy\n",
    "Function \n",
    "**vn_entropy(Grho: np.ndarray) -> float** \n",
    "computes the von Neumann Entropy. \n",
    "\n",
    "Input: \n",
    "- Grho: the correlation matrix $G^{\\rho}$ for $\\rho$, which is a real, antisymmetric matrix\n",
    "\n",
    "Output: \n",
    "- the von Neumann Entropy for the state $\\rho$, i.e.\n",
    "$$S(\\rho)=-{\\rm Tr}(\\rho\\log_2\\rho)$$\n",
    "Note that the logarithm is base 2. "
   ]
  },
  {
   "cell_type": "markdown",
   "id": "0bbd8bff",
   "metadata": {},
   "source": [
    "### Example\n",
    "Consider $\\rho$ to be the crtical Ising ground state with $L=10$ spins, and its reduced density matrix $\\rho_A$ where $L_A = 5$. Now we compute their von Neumann entropy. First, their correlation matrices are "
   ]
  },
  {
   "cell_type": "code",
   "execution_count": 3,
   "id": "22671a60",
   "metadata": {},
   "outputs": [],
   "source": [
    "G_rho = GroundStateCorrMtx(Ising_Hamiltonian_M(L = 10))\n",
    "G_rho_A = reduced_CorrMtx(G_rho, 0, 5)"
   ]
  },
  {
   "cell_type": "markdown",
   "id": "c320b97a",
   "metadata": {},
   "source": [
    "Since now $\\rho$ is a pure state, it has vanishing entropy."
   ]
  },
  {
   "cell_type": "code",
   "execution_count": 4,
   "id": "5c727c1b",
   "metadata": {},
   "outputs": [
    {
     "data": {
      "text/plain": [
       "0"
      ]
     },
     "execution_count": 4,
     "metadata": {},
     "output_type": "execute_result"
    }
   ],
   "source": [
    "vn_entropy(G_rho)"
   ]
  },
  {
   "cell_type": "markdown",
   "id": "507d7080",
   "metadata": {},
   "source": [
    "For $\\rho_A$, it has nonzero entropy. "
   ]
  },
  {
   "cell_type": "code",
   "execution_count": 5,
   "id": "6c1e8e26",
   "metadata": {},
   "outputs": [
    {
     "data": {
      "text/plain": [
       "np.float64(0.9695123579328397)"
      ]
     },
     "execution_count": 5,
     "metadata": {},
     "output_type": "execute_result"
    }
   ],
   "source": [
    "vn_entropy(G_rho_A)"
   ]
  },
  {
   "cell_type": "markdown",
   "id": "d3e9975d",
   "metadata": {},
   "source": [
    "### Cross-check \n",
    "To check $S(\\rho_A)$, we compare with the result obtained by the exact diagonalization as follows, where the function $\\color{purple}{\\rm Ising\\_SvN\\_exact\\_diag}(L\\_A, L)$ computes $S(\\rho_A)$ by using the ground state we have obtained by diagonalizing the Hamiltonian and then plugging in the definition of the entropy. "
   ]
  },
  {
   "cell_type": "code",
   "execution_count": 8,
   "id": "69b5464e",
   "metadata": {},
   "outputs": [
    {
     "data": {
      "text/plain": [
       "np.float64(0.9695123528042153)"
      ]
     },
     "execution_count": 8,
     "metadata": {},
     "output_type": "execute_result"
    }
   ],
   "source": [
    "Ising_SvN_exact_diag(L_A = 5, L = 10)"
   ]
  },
  {
   "cell_type": "markdown",
   "id": "f55bf46a-c37b-4674-bb15-57a552a27280",
   "metadata": {},
   "source": [
    "## Conditional mutual information\n",
    "Given the correlation function $G^{\\rho_{ABC}}$ and the subsystem configuration, the function\n",
    "**CMI(Grho: np.ndarray, La: int, Lb: int, Lc: int) -> float**\n",
    "computes the conditional mutual information (CMI) $I(A:C|B)$\n",
    "$$\n",
    "I(A:C|B) ~=~ S(\\rho_{AB}) ~+~ S(\\rho_{BC}) ~-~ S(\\rho_B) ~-~ S(\\rho_{ABC})\n",
    "$$\n",
    "where contiguous subregions $A$, $B$, $C$ have lengths $L_A$, $L_B$, and $L_C$ respectively. $A$ starts from the first spin. \n",
    "\n",
    "Inputs:\n",
    "- Grho: the correlation function $G^{\\rho_{ABC}}$ \n",
    "- La: size of the subregion $A$, $L_A$\n",
    "- Lb: size of the subregion $B$, $L_B$\n",
    "- Lc: size of the subregion $C$, $L_C$\n",
    "\n",
    "Output:\n",
    "- the CMI $I(A:C|B)$"
   ]
  },
  {
   "cell_type": "markdown",
   "id": "a3cafb6b-b6a6-434b-9154-2eadfcb2640b",
   "metadata": {},
   "source": [
    "### Example\n",
    "Consider $\\rho$ to be the crtical Ising ground state with $L=10$ spins and $(L_A,L_B,L_C) = (2,6,2)$. Then its CMI reads"
   ]
  },
  {
   "cell_type": "code",
   "execution_count": 3,
   "id": "b018b781-5239-410f-a12e-ef9a42702f3a",
   "metadata": {},
   "outputs": [
    {
     "data": {
      "text/plain": [
       "np.float64(0.7246255063844171)"
      ]
     },
     "execution_count": 3,
     "metadata": {},
     "output_type": "execute_result"
    }
   ],
   "source": [
    "G_rho = GroundStateCorrMtx(Ising_Hamiltonian_M(L = 10))\n",
    "CMI(G_rho, 2, 6, 2)"
   ]
  },
  {
   "cell_type": "markdown",
   "id": "05cf9174-6e6a-4068-b2d2-e0facd7f0bf4",
   "metadata": {},
   "source": [
    "If $(L_A,L_B,L_C) = (1,6,1)$, we need to first compute $G^{\\rho_{ABC}}$. Namely,"
   ]
  },
  {
   "cell_type": "code",
   "execution_count": 5,
   "id": "4fa2f77f-f438-44b0-9ef6-c49240c93af7",
   "metadata": {},
   "outputs": [
    {
     "data": {
      "text/plain": [
       "np.float64(0.03833429119740073)"
      ]
     },
     "execution_count": 5,
     "metadata": {},
     "output_type": "execute_result"
    }
   ],
   "source": [
    "G_rhoABC = reduced_CorrMtx(G_rho, 0, 1+6+1)\n",
    "CMI(G_rhoABC, 1, 6, 1)"
   ]
  },
  {
   "cell_type": "markdown",
   "id": "b72e7e1e-3927-4a30-9ca5-8d6491e28928",
   "metadata": {},
   "source": [
    "## Fidelity\n",
    "Function\n",
    "**Fidelity(Grho: np.ndarray, Gsigma: np.ndarray) -> float**\n",
    "computes the fidelity $F(\\rho,\\sigma)$ between two quantum states $\\rho$ and $\\sigma$. \n",
    "\n",
    "Inputs:\n",
    "- Grho: the correlation matrix of $\\rho$\n",
    "- Gsigma: the correlation matrix of $\\sigma$\n",
    "\n",
    "Output:\n",
    "- the fidelity $F(\\rho,\\sigma)$"
   ]
  },
  {
   "cell_type": "markdown",
   "id": "ebcb4b2a-a84f-4fb2-9d77-3713c3aad911",
   "metadata": {},
   "source": [
    "### Example\n",
    "Consider $\\rho$ to be the crtical Ising ground state with $L=8$ spins, the fidelity $F(\\rho_{AB}, \\rho_{BC})$ with $(L_A,L_B,L_C) = (2,2,4)$ reads"
   ]
  },
  {
   "cell_type": "code",
   "execution_count": 7,
   "id": "34b17971-c5fc-47b9-b084-94c14cccfa75",
   "metadata": {},
   "outputs": [
    {
     "data": {
      "text/plain": [
       "np.float64(1.0000000000160187)"
      ]
     },
     "execution_count": 7,
     "metadata": {},
     "output_type": "execute_result"
    }
   ],
   "source": [
    "G_rho = GroundStateCorrMtx(Ising_Hamiltonian_M(L = 8))\n",
    "Fidelity(reduced_CorrMtx(G_rho, 0, 4), reduced_CorrMtx(G_rho, 4, 8))"
   ]
  },
  {
   "cell_type": "markdown",
   "id": "985a7a19",
   "metadata": {},
   "source": [
    "# Fermionic Gaussian Channel\n",
    "A fermionic Gaussian channel $\\mathcal{E}$ admits the following Grassmann representation \n",
    "$$\n",
    "\\omega\\left( {\\cal E}(X), \\theta\\right) ~=~ \\int D\\mu D\\eta\\, \\exp\\Big[ \\frac{i}{2}\\,\\theta^{\\rm T}A\\,\\theta ~+~ i\\,\\theta^{\\rm T}B\\,\\eta \\,+\\, i\\eta^{\\rm T}\\mu \\Big]\\,\\omega(X,\\mu)\n",
    "$$\n",
    "where \n",
    "- $X$ is the input fermionic state composed of $2L$ Majorana fermions or equivalently $L$ spins. \n",
    "- $A$ and $B$ are antisymmetric $2L\\times 2L$ matrices. The fermionic Gaussian channel can be completely determined by $A$ and $B$. "
   ]
  },
  {
   "cell_type": "markdown",
   "id": "98ce3fb4",
   "metadata": {},
   "source": [
    "Function\n",
    "**Gaussian_channel(A: np.ndarray, B: np.ndarray, Grho: np.ndarray) -> : np.ndarray**\n",
    "computes the new correlation matrix $G^{\\mathcal{E}(\\rho)}$ after a Gaussian linear map $\\mathcal{E}$ acting on $\\rho$. \n",
    "\n",
    "Inputs: \n",
    "- Grho: the original correlation matrix $G^{\\rho}$ for $\\rho$\n",
    "- A, B: matrices in the integral representation of the fermionic Gaussian channel $\\mathcal{E}$\n",
    "\n",
    "Output: \n",
    "- the new correlation matrix $G^{\\mathcal{E}(\\rho)}$"
   ]
  },
  {
   "cell_type": "markdown",
   "id": "70f2ab50",
   "metadata": {},
   "source": [
    "## Erasure channel\n",
    "Consider \n",
    "\n",
    "Function \n",
    "**erasure_channel(Grho: np.ndarray, L1: int, L2: int) -> np.ndarray**\n",
    "yields the "
   ]
  },
  {
   "cell_type": "markdown",
   "id": "14697632",
   "metadata": {},
   "source": [
    "### Example\n"
   ]
  },
  {
   "cell_type": "markdown",
   "id": "f3ef4504-e8da-45c1-a956-db23c2c47b7b",
   "metadata": {},
   "source": [
    "# Gaussian Measurements"
   ]
  },
  {
   "cell_type": "code",
   "execution_count": null,
   "id": "95cba1b0-44ed-462d-a032-7d7b26966c67",
   "metadata": {},
   "outputs": [],
   "source": []
  }
 ],
 "metadata": {
  "kernelspec": {
   "display_name": "Python 3 (ipykernel)",
   "language": "python",
   "name": "python3"
  },
  "language_info": {
   "codemirror_mode": {
    "name": "ipython",
    "version": 3
   },
   "file_extension": ".py",
   "mimetype": "text/x-python",
   "name": "python",
   "nbconvert_exporter": "python",
   "pygments_lexer": "ipython3",
   "version": "3.12.4"
  }
 },
 "nbformat": 4,
 "nbformat_minor": 5
}
