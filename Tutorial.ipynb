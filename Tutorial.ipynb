{
 "cells": [
  {
   "cell_type": "markdown",
   "id": "68d2ecb0",
   "metadata": {},
   "source": [
    "# ${\\mathfrak{QMatch}}$\n",
    "\n",
    "In this tutorial, we introduce the package $\\mathfrak{QMatch}$ by \n",
    "- explaining functions \n",
    "- giving examples and some cross-checks\n",
    "\n",
    "$\\mathfrak{QMatch}$ is devoted to simulating fermionic $Gaussian$ $states$ and $Gaussian$ $operations$ for $1+1$ dimensional models with Hamiltonians that can be expressed in the form of free fermions. \n",
    "\n",
    "This package focuses on frequently used quantities and operations for quantum states and computes/simulates them by applying the free fermion formalism. Thus, the central object of study here is the correlation matrix, given which the fermionic Gaussian state can be completely determined. Functions in this package mainly work with the correlation matrices. \n",
    "\n",
    "See the following references for a thorough review of fermionic Gaussian states and Gaussian linear maps. \n",
    "- S. Bravyi, Lagrangian representation for fermionic linear optics, https://arxiv.org/abs/quant-ph/0404180\n",
    "- B. G. Swingle and Y. Wang, Recovery map for fermionic Gaussian channels, J. Math. Phys. 60, 072202 (2019), https://arxiv.org/abs/1811.04956\n",
    "- Appendix A of Y. Hu and Y. Zou, Petz map recovery for long-range entangled quantum many-body states "
   ]
  },
  {
   "cell_type": "markdown",
   "id": "eb8371a7",
   "metadata": {},
   "source": [
    "# Import QMatch"
   ]
  },
  {
   "cell_type": "code",
   "execution_count": 1,
   "id": "57a5bb8f",
   "metadata": {},
   "outputs": [],
   "source": [
    "import sys\n",
    "import os\n",
    "sys.path.append(os.path.abspath(\"./\"))\n",
    "from QMatch import QMatch as QM\n",
    "from test_QMatch.Ising_exact import *"
   ]
  },
  {
   "cell_type": "markdown",
   "id": "b58037b6",
   "metadata": {},
   "source": [
    "## import other packages needed for demonstrations"
   ]
  },
  {
   "cell_type": "code",
   "execution_count": 2,
   "id": "8a2701b4",
   "metadata": {},
   "outputs": [],
   "source": [
    "import numpy as np\n",
    "from numpy import linalg as LA\n",
    "import matplotlib\n",
    "import matplotlib.pyplot as plt"
   ]
  },
  {
   "cell_type": "markdown",
   "id": "4adaa084-30ae-46ad-b462-975b5577bf01",
   "metadata": {},
   "source": [
    "# Fermionic Gaussian States\n",
    "A fermionic Gaussian state (composed of $L$ spins) admits a Gaussian Grassmann representation, namely\n",
    "$$\n",
    "\\omega(\\rho,\\theta) ~=~ \\frac{1}{2^L}\\,\\exp\\left( \\frac{i}{2}\\,\\theta^{\\rm T}\\,G^{\\rho}\\,\\theta \\right)\n",
    "$$\n",
    "where \n",
    "- $G^{\\rho}$ is called the correlation matrix for $\\rho$\n",
    "- $G^{\\rho}$ is an antisymmetric real $2L\\times 2L$ matrix\n",
    "- The fermionic Gaussian state can be completely determined by $G^{\\rho}$\n",
    "\n",
    "Therefore, we will start with computing the correlation matrices. "
   ]
  },
  {
   "cell_type": "markdown",
   "id": "9a221d55",
   "metadata": {},
   "source": [
    "## Correlation matrix\n",
    "\n",
    "Given a free fermion Hamiltonian taking the following form,\n",
    "\\begin{equation}\n",
    "H ~=~ \\frac{i}{2}\\,\\sum_{i,j=1}^{2L}\\,M_{ij}\\,\\gamma_i\\,\\gamma_j\n",
    "\\end{equation}\n",
    "Function \n",
    "**GroundStateCorrMtx(M: np.ndarray) -> np.ndarray**\n",
    "computes the correlation matrix for the ground state of $H$\n",
    "\n",
    "Input: \n",
    "- the matrix $M$: a $2L\\times 2L$ dimensional real and antisymmetric matrix. \n",
    "\n",
    "Output: \n",
    "- the correlation matrix for the ground state of $H$: np.ndarray"
   ]
  },
  {
   "cell_type": "markdown",
   "id": "4f9d9e44",
   "metadata": {},
   "source": [
    "### Example\n",
    "Here we compute the correlation matrix of critical Ising ground state with the system size $L$, thus the output is a $2L\\times 2L$ antisymmetric matrix. \n",
    "The Hamiltonian reads\n",
    "$$\n",
    "H_{\\rm Ising} ~=~ \\frac{i}{2} \\sum_{k=1}^{2L} \\Big[ \\gamma_k \\gamma_{k+1} - \\gamma_{k+1} \\gamma_k \\Big] \n",
    "$$\n",
    "with periodic boundary condition $\\gamma_{2L+1} = - \\gamma_1$. \n",
    "\n",
    "The matrix $M$ can be read off from the above equation and the function $\\color{purple}{\\rm Ising\\_Hamiltonian\\_M}(L)$ has been built to compute $M$. "
   ]
  },
  {
   "cell_type": "code",
   "execution_count": 3,
   "id": "084963d5-4667-4401-9547-98bd08b230d1",
   "metadata": {},
   "outputs": [
    {
     "data": {
      "text/plain": [
       "array([[ 0.,  1.,  0.,  0.,  0.,  1.],\n",
       "       [-1.,  0.,  1.,  0.,  0.,  0.],\n",
       "       [ 0., -1.,  0.,  1.,  0.,  0.],\n",
       "       [ 0.,  0., -1.,  0.,  1.,  0.],\n",
       "       [ 0.,  0.,  0., -1.,  0.,  1.],\n",
       "       [-1.,  0.,  0.,  0., -1.,  0.]])"
      ]
     },
     "execution_count": 3,
     "metadata": {},
     "output_type": "execute_result"
    }
   ],
   "source": [
    "QM.Ising_Hamiltonian_M(L = 3)"
   ]
  },
  {
   "cell_type": "markdown",
   "id": "4590de60-c34d-4ca7-ad63-c2ab63fd2e0d",
   "metadata": {},
   "source": [
    "Thus, the correlation matrix in this case can be obtained as follows."
   ]
  },
  {
   "cell_type": "code",
   "execution_count": 4,
   "id": "d00405c8",
   "metadata": {
    "scrolled": true
   },
   "outputs": [
    {
     "data": {
      "text/plain": [
       "array([[ 0.        , -0.66666667,  0.        , -0.33333333,  0.        ,\n",
       "        -0.66666667],\n",
       "       [ 0.66666667,  0.        , -0.66666667,  0.        , -0.33333333,\n",
       "         0.        ],\n",
       "       [ 0.        ,  0.66666667,  0.        , -0.66666667,  0.        ,\n",
       "        -0.33333333],\n",
       "       [ 0.33333333,  0.        ,  0.66666667,  0.        , -0.66666667,\n",
       "         0.        ],\n",
       "       [ 0.        ,  0.33333333,  0.        ,  0.66666667,  0.        ,\n",
       "        -0.66666667],\n",
       "       [ 0.66666667,  0.        ,  0.33333333,  0.        ,  0.66666667,\n",
       "         0.        ]])"
      ]
     },
     "execution_count": 4,
     "metadata": {},
     "output_type": "execute_result"
    }
   ],
   "source": [
    "QM.GroundStateCorrMtx(QM.Ising_Hamiltonian_M(L = 3))"
   ]
  },
  {
   "cell_type": "markdown",
   "id": "e3c19a21-485c-42a0-9f03-e5ecb4a2fbfa",
   "metadata": {},
   "source": [
    "Moreover, for the maximally entangled state, the reduced density matrix is an identity matrix up to a normalization. The correlation matrices for these states \n",
    "$$\\rho ~\\propto~ \\mathbb{I}_L$$\n",
    "Their correlation matrices read $\\color{purple}{\\rm IdCorrMtx}(L)$. For example, "
   ]
  },
  {
   "cell_type": "code",
   "execution_count": 5,
   "id": "02da67e9-3f8b-487b-b69a-664c0c37ddb3",
   "metadata": {},
   "outputs": [
    {
     "data": {
      "text/plain": [
       "array([[0., 0., 0., 0.],\n",
       "       [0., 0., 0., 0.],\n",
       "       [0., 0., 0., 0.],\n",
       "       [0., 0., 0., 0.]])"
      ]
     },
     "execution_count": 5,
     "metadata": {},
     "output_type": "execute_result"
    }
   ],
   "source": [
    "QM.IdCorrMtx(L=2)"
   ]
  },
  {
   "cell_type": "markdown",
   "id": "b270703b-241f-4e65-a8a7-0b5422b0931a",
   "metadata": {},
   "source": [
    "From the definition of the correlation matrix we can see that if $\\rho \\propto \\mathbb{I}_L$, $G^{\\rho}$ is the zero matrix with size $2L$. "
   ]
  },
  {
   "cell_type": "markdown",
   "id": "eabcb8f9",
   "metadata": {},
   "source": [
    "### Cross-check\n",
    "To check correlation matrix of critical Ising ground state, we compare the result obtained above with the analytic result, which is \n",
    "$$\n",
    "G^{\\rm Ising}_{jl} ~=~ \n",
    "    \\begin{cases}\n",
    "        0 \\qquad\\qquad\\qquad\\qquad~ j-l~\\text{is even} \\\\\n",
    "        1/\\left[L\\, \\sin\\frac{\\pi}{2L}(j-l) \\right] ~~ j-l~\\text{is odd} \\\\\n",
    "    \\end{cases}\n",
    "$$\n",
    "Again, the function $\\color{purple}{\\rm IsingGS\\_CorrMtx}(L)$ has been built to compute $G^{\\rm Ising}$. "
   ]
  },
  {
   "cell_type": "code",
   "execution_count": 6,
   "id": "e527e0e0",
   "metadata": {},
   "outputs": [
    {
     "data": {
      "text/plain": [
       "True"
      ]
     },
     "execution_count": 6,
     "metadata": {},
     "output_type": "execute_result"
    }
   ],
   "source": [
    "np.allclose(QM.GroundStateCorrMtx(QM.Ising_Hamiltonian_M(L=3)), QM.IsingGS_CorrMtx(L=3))"
   ]
  },
  {
   "cell_type": "markdown",
   "id": "41c18129",
   "metadata": {},
   "source": [
    "## Ground state energy\n",
    "Function **ground_state_energy(M: np.ndarray) -> float** computes the ground state energy. \n",
    "\n",
    "Input: \n",
    "- the matrix $M$ in the Hamiltonian $$H ~=~ \\frac{i}{2}\\,\\sum_{i,j=1}^{2L}\\,M_{ij}\\,\\gamma_i\\,\\gamma_j$$\n",
    "- it is a $2L\\times 2L$ dimensional real and antisymmetric matrix\n",
    "\n",
    "Output: \n",
    "- the ground state energy $E_{\\rm GS}$"
   ]
  },
  {
   "cell_type": "markdown",
   "id": "76883afe",
   "metadata": {},
   "source": [
    "### Example\n",
    "the ground state energy for critical Ising with system size $L$ and periodic boundary condition can be computed as follows"
   ]
  },
  {
   "cell_type": "code",
   "execution_count": 7,
   "id": "6ff1e668",
   "metadata": {},
   "outputs": [
    {
     "data": {
      "text/plain": [
       "np.float64(-4.0)"
      ]
     },
     "execution_count": 7,
     "metadata": {},
     "output_type": "execute_result"
    }
   ],
   "source": [
    "QM.ground_state_energy(QM.Ising_Hamiltonian_M(L = 3))"
   ]
  },
  {
   "cell_type": "markdown",
   "id": "f24225c3",
   "metadata": {},
   "source": [
    "### Cross-check\n",
    "To check the ground state energy result obtained above, we compare it with the result computed by diagonalization. \n",
    "\n",
    "Recall that the Hamiltonian for the Ising model reads\n",
    "$$\n",
    "H_{\\rm Ising} ~=~ -\\,\\sum_{i=1}^L\\left( X_i\\,X_{i+1} + g\\,Z_i \\right) ~~,~~ X_{L+1} := X_1\n",
    "$$\n",
    "where $X$ and $Z$ are Pauli matrices and the criticality occurs at $g=1$. This $2^L\\times 2^L$ matrix $H_{\\rm Ising}$ can be computed by the function $\\color{purple}{\\rm Ising\\_H\\_def}(L,g)$. \n",
    "\n",
    "The ground state energy is the smallest eigenvalue of $H$. Namely, "
   ]
  },
  {
   "cell_type": "code",
   "execution_count": 8,
   "id": "7a6a0d46",
   "metadata": {},
   "outputs": [
    {
     "data": {
      "text/plain": [
       "np.float64(-3.9999999999999996)"
      ]
     },
     "execution_count": 8,
     "metadata": {},
     "output_type": "execute_result"
    }
   ],
   "source": [
    "eigv = LA.eigvalsh(Ising_H_def(L=3, g=1))\n",
    "eigv[0]"
   ]
  },
  {
   "cell_type": "markdown",
   "id": "c8a43f07",
   "metadata": {},
   "source": [
    "## Partial trace over the subregion \n",
    "Function\n",
    "**reduced_CorrMtx(Grho: np.ndarray, siteL: int, siteR: int) -> np.ndarray**\n",
    "computes the correlation matrix $G^{\\rho_A}$ for a reduced density matrix $\\rho_A$\n",
    "$$\n",
    "\\rho_A ~=~ {\\rm Tr}_A\\,\\rho\n",
    "$$\n",
    "\n",
    "Inputs: \n",
    "- Grho: the correlation matrix $G^{\\rho}$ for $\\rho$, which is a $2L\\times2L$ real, antisymmetric matrix, namely the system is composed by $L$ spins\n",
    "- siteL: the number of spins sitting on the left of $A$, siteL $\\in [0,L]$\n",
    "- siteR: the region $A$ ends at the siteR-th spin, siteR $\\in [0,L]$ (siteR $\\ge$ siteL)\n",
    "\n",
    "Output: \n",
    "- the correlation matrix for $\\rho_A$"
   ]
  },
  {
   "cell_type": "markdown",
   "id": "058dd2fa",
   "metadata": {},
   "source": [
    "### Example\n",
    "Consider the critical Ising ground state with $L = 3$ and subregion $A$ is the first spin. \n",
    "Thus the reduced correlation matrix should be the first $2\\times2$ block of $G^{\\rho}$, i.e. \n",
    "$$ G^{\\rho_A} ~=~ \n",
    "\\begin{pmatrix}\n",
    "0 & -2/3\\\\\n",
    "2/3 & 0 \n",
    "\\end{pmatrix} ~.\n",
    "$$\n",
    "We can see $G^{\\rho_A}$ is reproduced as follows"
   ]
  },
  {
   "cell_type": "code",
   "execution_count": 9,
   "id": "5338dc96",
   "metadata": {},
   "outputs": [
    {
     "data": {
      "text/plain": [
       "array([[ 0.        , -0.66666667],\n",
       "       [ 0.66666667,  0.        ]])"
      ]
     },
     "execution_count": 9,
     "metadata": {},
     "output_type": "execute_result"
    }
   ],
   "source": [
    "G_rho = QM.IsingGS_CorrMtx(L=3)\n",
    "QM.reduced_CorrMtx(G_rho, 0, 1)"
   ]
  },
  {
   "cell_type": "markdown",
   "id": "9a0c1f86-d50e-49d4-ad25-0906476e7607",
   "metadata": {},
   "source": [
    "Moreover, when siteR $\\le$ siteL, the resulting subregion is empty."
   ]
  },
  {
   "cell_type": "code",
   "execution_count": 10,
   "id": "41523d07-ab76-4185-8e25-6a36492365ac",
   "metadata": {},
   "outputs": [
    {
     "data": {
      "text/plain": [
       "array([], shape=(0, 0), dtype=float64)"
      ]
     },
     "execution_count": 10,
     "metadata": {},
     "output_type": "execute_result"
    }
   ],
   "source": [
    "QM.reduced_CorrMtx(G_rho, 1, 1)"
   ]
  },
  {
   "cell_type": "code",
   "execution_count": 11,
   "id": "ec831cf9-c073-4307-bf93-3f412ee803e1",
   "metadata": {},
   "outputs": [
    {
     "data": {
      "text/plain": [
       "array([], shape=(0, 0), dtype=float64)"
      ]
     },
     "execution_count": 11,
     "metadata": {},
     "output_type": "execute_result"
    }
   ],
   "source": [
    "QM.reduced_CorrMtx(G_rho, 2, 1)"
   ]
  },
  {
   "cell_type": "markdown",
   "id": "111128c1",
   "metadata": {},
   "source": [
    "## Tensor product\n",
    "Function\n",
    "**tensor_prod(G1: np.ndarray, G2: np.ndarray) -> : np.ndarray**\n",
    "computes the correlation matrix for a tensor product state. \n",
    "\n",
    "Inputs:\n",
    "- G1: the correlation matrix $G^{\\rho_1}$ for $\\rho_1$\n",
    "- G2: the correlation matrix $G^{\\rho_2}$ for $\\rho_2$\n",
    "\n",
    "Output: \n",
    "- the correlation matrix $G^{\\rho_1\\otimes\\rho_2}$ for $\\rho_1\\otimes\\rho_2$"
   ]
  },
  {
   "cell_type": "markdown",
   "id": "ff06b2c3",
   "metadata": {},
   "source": [
    "### Example\n",
    "consider \n",
    "- $\\rho_1$ is the reduced density matrix $\\rho_A$ for critical Ising ground state with $L=3$ and subregion $A$ is the first spin. Namely, \n",
    "$$ G^{\\rho_1} ~=~ \n",
    "\\begin{pmatrix}\n",
    "0 & -2/3\\\\\n",
    "2/3 & 0 \n",
    "\\end{pmatrix}\n",
    "$$\n",
    "- $\\rho_2 = \\frac{1}{2}\\mathbb{I}_2$. Thus $G^{\\rho_2}$ is a zero matrix, \n",
    "$$\n",
    "G^{\\rho_2} ~=~ \n",
    "\\begin{pmatrix}\n",
    "0 & 0\\\\\n",
    "0 & 0 \n",
    "\\end{pmatrix}\n",
    "$$\n",
    "\n",
    "The result should be \n",
    "$$\n",
    "G^{\\rho_1\\otimes \\rho_2} ~=~ \n",
    "\\begin{pmatrix}\n",
    "0 & -2/3 & 0 & 0\\\\\n",
    "2/3 & 0  & 0 & 0 \\\\\n",
    "0 & 0 & 0 & 0 \\\\\n",
    "0 & 0 & 0 & 0 \\\\\n",
    "\\end{pmatrix}\n",
    "$$\n",
    "which is reproduced as follows"
   ]
  },
  {
   "cell_type": "code",
   "execution_count": 12,
   "id": "309f2699",
   "metadata": {},
   "outputs": [
    {
     "data": {
      "text/plain": [
       "array([[ 0.        , -0.66666667,  0.        ,  0.        ],\n",
       "       [ 0.66666667,  0.        ,  0.        ,  0.        ],\n",
       "       [ 0.        ,  0.        ,  0.        ,  0.        ],\n",
       "       [ 0.        ,  0.        ,  0.        ,  0.        ]])"
      ]
     },
     "execution_count": 12,
     "metadata": {},
     "output_type": "execute_result"
    }
   ],
   "source": [
    "G_rho = QM.IsingGS_CorrMtx(L=3)\n",
    "G1 = QM.reduced_CorrMtx(G_rho, 0, 1)\n",
    "G2 = np.zeros([2,2])\n",
    "QM.tensor_prod(G1, G2)"
   ]
  },
  {
   "cell_type": "markdown",
   "id": "9f1ccbdf",
   "metadata": {},
   "source": [
    "## von Neumann Entropy\n",
    "Function \n",
    "**vn_entropy(Grho: np.ndarray) -> float** \n",
    "computes the von Neumann Entropy. \n",
    "\n",
    "Input: \n",
    "- Grho: the correlation matrix $G^{\\rho}$ for $\\rho$, which is a real, antisymmetric matrix\n",
    "\n",
    "Output: \n",
    "- the von Neumann Entropy for the state $\\rho$, i.e.\n",
    "$$S(\\rho)=-{\\rm Tr}(\\rho\\log_2\\rho)$$\n",
    "Note that the logarithm is base 2. "
   ]
  },
  {
   "cell_type": "markdown",
   "id": "0bbd8bff",
   "metadata": {},
   "source": [
    "### Example\n",
    "Consider $\\rho$ to be the crtical Ising ground state with $L=10$ spins, and its reduced density matrix $\\rho_A$ where $L_A = 5$. Now we compute their von Neumann entropy. First, their correlation matrices are "
   ]
  },
  {
   "cell_type": "code",
   "execution_count": 13,
   "id": "22671a60",
   "metadata": {},
   "outputs": [],
   "source": [
    "G_rho = QM.IsingGS_CorrMtx(L=10)\n",
    "G_rho_A = QM.reduced_CorrMtx(G_rho, 0, 5)"
   ]
  },
  {
   "cell_type": "markdown",
   "id": "c320b97a",
   "metadata": {},
   "source": [
    "Since now $\\rho$ is a pure state, it has vanishing entropy."
   ]
  },
  {
   "cell_type": "code",
   "execution_count": 14,
   "id": "5c727c1b",
   "metadata": {},
   "outputs": [
    {
     "data": {
      "text/plain": [
       "0"
      ]
     },
     "execution_count": 14,
     "metadata": {},
     "output_type": "execute_result"
    }
   ],
   "source": [
    "QM.vn_entropy(G_rho)"
   ]
  },
  {
   "cell_type": "markdown",
   "id": "507d7080",
   "metadata": {},
   "source": [
    "For $\\rho_A$, it has nonzero entropy. "
   ]
  },
  {
   "cell_type": "code",
   "execution_count": 15,
   "id": "6c1e8e26",
   "metadata": {},
   "outputs": [
    {
     "data": {
      "text/plain": [
       "np.float64(0.9695123579328221)"
      ]
     },
     "execution_count": 15,
     "metadata": {},
     "output_type": "execute_result"
    }
   ],
   "source": [
    "QM.vn_entropy(G_rho_A)"
   ]
  },
  {
   "cell_type": "markdown",
   "id": "d3e9975d",
   "metadata": {},
   "source": [
    "### Cross-check \n",
    "To check $S(\\rho_A)$, we compare with the result obtained by the exact diagonalization as follows, where the function $\\color{purple}{\\rm Ising\\_SvN\\_exact\\_diag}(L\\_A, L)$ computes $S(\\rho_A)$ by using the ground state we have obtained by diagonalizing the Hamiltonian and then plugging in the definition of the entropy. "
   ]
  },
  {
   "cell_type": "code",
   "execution_count": 16,
   "id": "69b5464e",
   "metadata": {},
   "outputs": [
    {
     "data": {
      "text/plain": [
       "np.float64(0.9695123528042153)"
      ]
     },
     "execution_count": 16,
     "metadata": {},
     "output_type": "execute_result"
    }
   ],
   "source": [
    "Ising_SvN_exact_diag(L_A = 5, L = 10)"
   ]
  },
  {
   "cell_type": "markdown",
   "id": "f55bf46a-c37b-4674-bb15-57a552a27280",
   "metadata": {},
   "source": [
    "## Conditional mutual information\n",
    "Given the correlation function $G^{\\rho_{ABC}}$ and the subsystem configuration, the function\n",
    "**CMI(GrhoABC: np.ndarray, La: int, Lb: int, Lc: int) -> float**\n",
    "computes the conditional mutual information (CMI) $I(A:C|B)$\n",
    "$$\n",
    "I(A:C|B) ~=~ S(\\rho_{AB}) ~+~ S(\\rho_{BC}) ~-~ S(\\rho_B) ~-~ S(\\rho_{ABC})\n",
    "$$\n",
    "where contiguous subregions $A$, $B$, $C$ have lengths $L_A$, $L_B$, and $L_C$ respectively. $A$ starts from the first spin. \n",
    "\n",
    "Inputs:\n",
    "- GrhoABC: the correlation function $G^{\\rho_{ABC}}$ \n",
    "- La: size of the subregion $A$, $L_A$\n",
    "- Lb: size of the subregion $B$, $L_B$\n",
    "- Lc: size of the subregion $C$, $L_C$\n",
    "\n",
    "Output:\n",
    "- the CMI $I(A:C|B)$"
   ]
  },
  {
   "cell_type": "markdown",
   "id": "a3cafb6b-b6a6-434b-9154-2eadfcb2640b",
   "metadata": {},
   "source": [
    "### Example\n",
    "Consider $\\rho$ to be the crtical Ising ground state with $L=10$ spins and $(L_A,L_B,L_C) = (2,6,2)$. Then its CMI reads"
   ]
  },
  {
   "cell_type": "code",
   "execution_count": 17,
   "id": "b018b781-5239-410f-a12e-ef9a42702f3a",
   "metadata": {},
   "outputs": [
    {
     "data": {
      "text/plain": [
       "np.float64(0.7246255063844244)"
      ]
     },
     "execution_count": 17,
     "metadata": {},
     "output_type": "execute_result"
    }
   ],
   "source": [
    "G_rho = QM.IsingGS_CorrMtx(L=10)\n",
    "QM.CMI(G_rho, 2, 6, 2)"
   ]
  },
  {
   "cell_type": "markdown",
   "id": "05cf9174-6e6a-4068-b2d2-e0facd7f0bf4",
   "metadata": {},
   "source": [
    "If $(L_A,L_B,L_C) = (1,6,1)$, we need to first compute $G^{\\rho_{ABC}}$. Namely,"
   ]
  },
  {
   "cell_type": "code",
   "execution_count": 18,
   "id": "4fa2f77f-f438-44b0-9ef6-c49240c93af7",
   "metadata": {},
   "outputs": [
    {
     "data": {
      "text/plain": [
       "np.float64(0.03833429119739851)"
      ]
     },
     "execution_count": 18,
     "metadata": {},
     "output_type": "execute_result"
    }
   ],
   "source": [
    "G_rhoABC = QM.reduced_CorrMtx(G_rho, 0, 1+6+1)\n",
    "QM.CMI(G_rhoABC, 1, 6, 1)"
   ]
  },
  {
   "cell_type": "markdown",
   "id": "b72e7e1e-3927-4a30-9ca5-8d6491e28928",
   "metadata": {},
   "source": [
    "## Fidelity\n",
    "Function\n",
    "**Fidelity(Grho: np.ndarray, Gsigma: np.ndarray) -> float**\n",
    "computes the fidelity $F(\\rho,\\sigma)$ between two quantum states $\\rho$ and $\\sigma$. \n",
    "\n",
    "Inputs:\n",
    "- Grho: the correlation matrix of $\\rho$\n",
    "- Gsigma: the correlation matrix of $\\sigma$\n",
    "\n",
    "Output:\n",
    "- the fidelity $F(\\rho,\\sigma)$"
   ]
  },
  {
   "cell_type": "markdown",
   "id": "ebcb4b2a-a84f-4fb2-9d77-3713c3aad911",
   "metadata": {},
   "source": [
    "### Example\n",
    "Consider $\\rho$ to be the crtical Ising ground state with $L=8$ spins, the fidelity $F(\\rho_{AB}, \\rho_{C})$ with $(L_A,L_B,L_C) = (2,2,4)$ reads"
   ]
  },
  {
   "cell_type": "code",
   "execution_count": 19,
   "id": "34b17971-c5fc-47b9-b084-94c14cccfa75",
   "metadata": {},
   "outputs": [
    {
     "data": {
      "text/plain": [
       "np.float64(0.9999999999912761)"
      ]
     },
     "execution_count": 19,
     "metadata": {},
     "output_type": "execute_result"
    }
   ],
   "source": [
    "G_rho = QM.IsingGS_CorrMtx(L=8)\n",
    "QM.Fidelity(QM.reduced_CorrMtx(G_rho, 0, 4), QM.reduced_CorrMtx(G_rho, 4, 8))"
   ]
  },
  {
   "cell_type": "markdown",
   "id": "985a7a19",
   "metadata": {},
   "source": [
    "# Fermionic Gaussian Channel\n",
    "A fermionic Gaussian channel $\\mathcal{E}: \\mathcal{C}_{2L}\\to \\mathcal{C}_{2L}$ admits the following Grassmann representation \n",
    "$$\n",
    "\\omega\\left( {\\cal E}(X), \\theta\\right) ~=~ \\int D\\mu D\\eta\\, \\exp\\Big[ \\frac{i}{2}\\,\\theta^{\\rm T}A\\,\\theta ~+~ i\\,\\theta^{\\rm T}B\\,\\eta \\,+\\, i\\eta^{\\rm T}\\mu \\Big]\\,\\omega(X,\\mu)\n",
    "$$\n",
    "where \n",
    "- $X$ is the input fermionic state composed of $2L$ Majorana fermions or equivalently $L$ spins. \n",
    "- $A$ and $B$ are $2L\\times 2L$ matrices. The fermionic Gaussian channel can be completely determined by $A$ and $B$. "
   ]
  },
  {
   "cell_type": "markdown",
   "id": "98ce3fb4",
   "metadata": {},
   "source": [
    "Function\n",
    "**Gaussian_channel(A: np.ndarray, B: np.ndarray, Grho: np.ndarray) -> : np.ndarray**\n",
    "computes the new correlation matrix $G^{\\mathcal{E}(\\rho)}$ after a Gaussian linear map $\\mathcal{E}$ acting on $\\rho$. \n",
    "\n",
    "Inputs: \n",
    "- Grho: the original correlation matrix $G^{\\rho}$ for $\\rho$\n",
    "- A, B: matrices in the integral representation of the fermionic Gaussian channel $\\mathcal{E}$\n",
    "\n",
    "Output: \n",
    "- the new correlation matrix $G^{\\mathcal{E}(\\rho)}$"
   ]
  },
  {
   "cell_type": "markdown",
   "id": "70f2ab50",
   "metadata": {},
   "source": [
    "## Erasure channel\n",
    "Divide the system into two parts: $L1$ and $L2$. Consider an erasure channel on $L2$. \n",
    "\n",
    "Function \n",
    "**erasure_channel(Grho: np.ndarray, L1: int, L2: int) -> np.ndarray**\n",
    "yields the new correlation matrix after implementing the erasure channel. \n",
    "\n",
    "Inputs:\n",
    "- Grho: the correlation function for the original state \n",
    "- L1: the size of subregion $L1$\n",
    "- L2: the size of subregion $L2$\n",
    "\n",
    "Output:\n",
    "- the new correlation matrix after implementing the erasure channel. "
   ]
  },
  {
   "cell_type": "markdown",
   "id": "14697632",
   "metadata": {},
   "source": [
    "### Example\n"
   ]
  },
  {
   "cell_type": "markdown",
   "id": "85c1e69f-c526-4c80-9ae1-ff5162ad7d21",
   "metadata": {},
   "source": [
    "For example, consider the critical Ising ground state with $L=3$, and $L1 = 2$, $L2=1$. After erasing the last spin, the new correlation matrix reads"
   ]
  },
  {
   "cell_type": "code",
   "execution_count": 20,
   "id": "b446a2b8-b4fe-43b9-ace3-dc142188902c",
   "metadata": {},
   "outputs": [
    {
     "data": {
      "text/plain": [
       "array([[ 0.        , -0.66666667,  0.        , -0.33333333,  0.        ,\n",
       "         0.        ],\n",
       "       [ 0.66666667,  0.        , -0.66666667,  0.        ,  0.        ,\n",
       "         0.        ],\n",
       "       [ 0.        ,  0.66666667,  0.        , -0.66666667,  0.        ,\n",
       "         0.        ],\n",
       "       [ 0.33333333,  0.        ,  0.66666667,  0.        ,  0.        ,\n",
       "         0.        ],\n",
       "       [ 0.        ,  0.        ,  0.        ,  0.        ,  0.        ,\n",
       "         0.        ],\n",
       "       [ 0.        ,  0.        ,  0.        ,  0.        ,  0.        ,\n",
       "         0.        ]])"
      ]
     },
     "execution_count": 20,
     "metadata": {},
     "output_type": "execute_result"
    }
   ],
   "source": [
    "G_rho = QM.IsingGS_CorrMtx(L=3)\n",
    "QM.erasure_channel(G_rho, 2, 1)"
   ]
  },
  {
   "cell_type": "markdown",
   "id": "8d3e85d5-3231-4594-9989-3968233f63ea",
   "metadata": {},
   "source": [
    "One can see that this is equivalent to tracing out the last spin and then tensor product with the identity matrix. Namely,"
   ]
  },
  {
   "cell_type": "code",
   "execution_count": 21,
   "id": "b2cbcfb6-624c-4c03-bc6b-ec807f081fba",
   "metadata": {},
   "outputs": [
    {
     "data": {
      "text/plain": [
       "array([[ 0.        , -0.66666667,  0.        , -0.33333333,  0.        ,\n",
       "         0.        ],\n",
       "       [ 0.66666667,  0.        , -0.66666667,  0.        ,  0.        ,\n",
       "         0.        ],\n",
       "       [ 0.        ,  0.66666667,  0.        , -0.66666667,  0.        ,\n",
       "         0.        ],\n",
       "       [ 0.33333333,  0.        ,  0.66666667,  0.        ,  0.        ,\n",
       "         0.        ],\n",
       "       [ 0.        ,  0.        ,  0.        ,  0.        ,  0.        ,\n",
       "         0.        ],\n",
       "       [ 0.        ,  0.        ,  0.        ,  0.        ,  0.        ,\n",
       "         0.        ]])"
      ]
     },
     "execution_count": 21,
     "metadata": {},
     "output_type": "execute_result"
    }
   ],
   "source": [
    "G_traced = QM.reduced_CorrMtx(G_rho, 0, 2)\n",
    "QM.tensor_prod(G_traced, QM.IdCorrMtx(1))"
   ]
  },
  {
   "cell_type": "markdown",
   "id": "2f18aa00-9f5c-41ea-92d5-d6b2485ee884",
   "metadata": {},
   "source": [
    "## Petz recovery map\n",
    "Given a quantum (fermionic Gaussian) channel $\\mathcal{N}$ and a reference state $\\sigma$, the Petz map to reverse the channel $\\mathcal{N}$ is defined as\n",
    "$$\n",
    "\\mathcal{D}_{\\sigma,0}(X) ~=~ \\sigma^{\\frac{1}{2}}\\mathcal{N}^{*}(\\mathcal{N}(\\sigma)^{-\\frac{1}{2}} X \\mathcal{N}(\\sigma)^{-\\frac{1}{2}})\\sigma^{\\frac{1}{2}}\n",
    "$$\n",
    "where $\\mathcal{N}^{*}$ is the dual channel and $X$ is the input state. Note that for the reference state,$\\mathcal{D}_{\\sigma,0}(\\mathcal{N}(\\sigma)) = \\sigma$. For a generic state $\\rho$, we consider $\\tilde{\\rho} = \\mathcal{D}_{\\sigma,0}(\\mathcal{N}(\\rho))$. \n",
    "\n",
    "Function\n",
    "**Petz_map(Grho: np.ndarray, A_N: np.ndarray, B_N: np.ndarray, G_sigma: np.ndarray) -> np.ndarray**\n",
    "computes the correlation matrix $G^{\\tilde{\\rho}}$ for $\\tilde{\\rho}$. Recall that a fermionic Gaussian channel $\\mathcal{N}$ can be described by matrices A_N and B_N through the Grassmann integral representation. \n",
    "\n",
    "Inputs:\n",
    "- Grho: the correlation matrix for the state $\\rho$\n",
    "- A_N: matrix A in the integral representation of channel $\\mathcal{N}$\n",
    "- B_N: matrix B in the integral representation of channel $\\mathcal{N}$\n",
    "- G_sigma: the correlation matrix for the reference state $\\sigma$\n",
    "\n",
    "Output:\n",
    "- the new correlation matrix $G^{\\tilde{\\rho}}$ after implementing the Petz recovery map"
   ]
  },
  {
   "cell_type": "markdown",
   "id": "c3a5c67e-f5b5-47c0-a19e-70d0f4681dd2",
   "metadata": {},
   "source": [
    "### Example\n",
    "Consider the state $\\rho_{ABCD}$ to be the critical Ising ground state with $L=8$, $(L_A,L_B,L_C,L_D)=(1,5,1,1)$ and the channel $\\mathcal{N}$ to be the erasure channel on $C$. \n",
    "Choose the reference state as $\\sigma = \\rho_A\\otimes\\rho_{BC}$. \n",
    "$A_N$ and $B_N$ for the erasure channel can be obtained via the function $\\color{purple}{\\rm erasure\\_channel\\_param(L1, L2)}$. Thus, we implement the Petz map on $\\rho_{AB}\\otimes\\mathbb{I}_c$ as follows"
   ]
  },
  {
   "cell_type": "code",
   "execution_count": 22,
   "id": "0681fb69-2c11-48d1-9f76-35e1febc161d",
   "metadata": {},
   "outputs": [],
   "source": [
    "A_N, B_N = QM.erasure_channel_param(L1=6, L2=1)\n",
    "Grho_ABC = QM.reduced_CorrMtx(QM.IsingGS_CorrMtx(L=8), 0, 7)\n",
    "Gsigma = QM.tensor_prod(QM.reduced_CorrMtx(Grho_ABC, 0, 1), QM.reduced_CorrMtx(Grho_ABC, 1, 7))\n",
    "G_X = QM.tensor_prod(QM.reduced_CorrMtx(Grho_ABC,0,6),QM.IdCorrMtx(1))\n",
    "G_tilde_rho = QM.Petz_map(G_X, A_N, B_N, Gsigma)"
   ]
  },
  {
   "cell_type": "markdown",
   "id": "1d2900b5-7c03-4cc6-9bb4-a70cb037a6f6",
   "metadata": {},
   "source": [
    "Moreover, we can compute the fidelity between $\\rho$ and $\\tilde{\\rho}$ and see that the Petz recovery map does a pretty good job. "
   ]
  },
  {
   "cell_type": "code",
   "execution_count": 23,
   "id": "1770a25d-b07f-4d74-952c-4e9da37c901a",
   "metadata": {},
   "outputs": [
    {
     "data": {
      "text/plain": [
       "np.float64(0.9934173876837776)"
      ]
     },
     "execution_count": 23,
     "metadata": {},
     "output_type": "execute_result"
    }
   ],
   "source": [
    "QM.Fidelity(Grho_ABC, G_tilde_rho)"
   ]
  },
  {
   "cell_type": "markdown",
   "id": "02c4d402-c3cb-46b3-b5f3-3c3d9d819ed9",
   "metadata": {},
   "source": [
    "## Rotated Petz recovery map\n",
    "The rotated Petz map is defined as \n",
    "$$\n",
    "\\mathcal{D}_{\\sigma,t}(X) = \\sigma^{\\frac{1+it}{2}}\\mathcal{N}^{*}(\\mathcal{N}(\\sigma)^{\\frac{-1-it}{2}} X \\mathcal{N}(\\sigma)^{\\frac{-1+it}{2}})\\sigma^{\\frac{1-it}{2}}\n",
    "$$\n",
    "where $t=0$ corresponds to the Petz map. \n",
    "Similar to the Petz map, we have the function\n",
    "**rotated_Petz_map(Grho: np.ndarray, t: float, A_N: np.ndarray, B_N: np.ndarray, G_sigma: np.ndarray) -> np.ndarray**\n",
    "to compute the correlation matrix for $\\tilde{\\rho}_t=\\mathcal{D}_{\\sigma,t}(\\mathcal{N}(\\rho))$. \n",
    "\n",
    "Inputs:\n",
    "- Grho: the correlation matrix for the state $\\rho$\n",
    "- t: the parameter $t$ for the rotated Petz map\n",
    "- A_N: matrix A in the integral representation of channel $\\mathcal{N}$\n",
    "- B_N: matrix B in the integral representation of channel $\\mathcal{N}$\n",
    "- G_sigma: the correlation matrix for the reference state $\\sigma$\n",
    "\n",
    "Output:\n",
    "- the new correlation matrix $G^{\\tilde{\\rho}_t}$ after implementing the rotated Petz recovery map\n"
   ]
  },
  {
   "cell_type": "markdown",
   "id": "a17398a0-7343-4a8f-ba2a-e15f59046383",
   "metadata": {},
   "source": [
    "### Example\n",
    "Consider the same setup as we did for the Petz map and $t\\in[-5,5]$. Thus we can plot the fidelity $F_t(\\rho,\\tilde{\\rho})$ as a function of $t$."
   ]
  },
  {
   "cell_type": "code",
   "execution_count": 24,
   "id": "68e0a5cb-6ab0-4f32-abff-9a318dabb704",
   "metadata": {},
   "outputs": [],
   "source": [
    "A_N, B_N = QM.erasure_channel_param(L1=6, L2=1)\n",
    "Grho_ABC = QM.reduced_CorrMtx(QM.IsingGS_CorrMtx(L=8), 0, 7)\n",
    "Gsigma = QM.tensor_prod(QM.reduced_CorrMtx(Grho_ABC, 0, 1), QM.reduced_CorrMtx(Grho_ABC, 1, 7))\n",
    "G_X = QM.tensor_prod(QM.reduced_CorrMtx(Grho_ABC,0,6),QM.IdCorrMtx(1))"
   ]
  },
  {
   "cell_type": "code",
   "execution_count": 25,
   "id": "b9ad34e1-7d92-4f6c-95c0-cf4dae1cf166",
   "metadata": {},
   "outputs": [],
   "source": [
    "t_lst = [x/100 for x in range(-500, 501, 1)]\n",
    "F_t = []\n",
    "for t in t_lst:\n",
    "    G_tilde_rho = QM.rotated_Petz_map(G_X, t, A_N, B_N, Gsigma)\n",
    "    F_t.append(QM.Fidelity(Grho_ABC, G_tilde_rho)) "
   ]
  },
  {
   "cell_type": "code",
   "execution_count": 26,
   "id": "b6683750-6687-4d58-8815-60f1a8458c62",
   "metadata": {},
   "outputs": [
    {
     "data": {
      "image/png": "[encoded data removed]",
      "text/plain": [
       "<Figure size 640x480 with 1 Axes>"
      ]
     },
     "metadata": {},
     "output_type": "display_data"
    }
   ],
   "source": [
    "plt.scatter(t_lst, F_t)\n",
    "plt.ylabel('$F_t$')\n",
    "plt.xlabel('$t$')\n",
    "plt.show()"
   ]
  },
  {
   "cell_type": "markdown",
   "id": "63165556-cbf8-4e92-a68f-30263619ad73",
   "metadata": {},
   "source": [
    "Also, as a consistency check, when $t=0$, function rotated_Petz_map and Petz_map should yield the same result."
   ]
  },
  {
   "cell_type": "code",
   "execution_count": 27,
   "id": "69aab839-9b24-4272-b096-4d7da3670a97",
   "metadata": {},
   "outputs": [
    {
     "data": {
      "text/plain": [
       "True"
      ]
     },
     "execution_count": 27,
     "metadata": {},
     "output_type": "execute_result"
    }
   ],
   "source": [
    "np.allclose(QM.rotated_Petz_map(G_X, 0, A_N, B_N, Gsigma), QM.Petz_map(G_X, A_N, B_N, Gsigma))"
   ]
  },
  {
   "cell_type": "markdown",
   "id": "f3ef4504-e8da-45c1-a956-db23c2c47b7b",
   "metadata": {},
   "source": [
    "# Gaussian Measurements\n",
    "Function\n",
    "**measure_Z(Grho: np.ndarray, spin: int) -> np.ndarray**\n",
    "gives the new correlation matrix after a Z measurement at site = spin\n",
    "\n",
    "Inputs:\n",
    "- Grho: the correlation matrix for the state before the measurement\n",
    "- spin: specify which spin is getting the measurement\n",
    "\n",
    "Output:\n",
    "- the new correlation matrix after the Z measurement\n",
    "\n",
    "Note that there is an intrinsic randomness for the measurement. The outcome follows the Born rule. "
   ]
  },
  {
   "cell_type": "markdown",
   "id": "e3627698-57b7-4716-bea2-653796b58f5d",
   "metadata": {},
   "source": [
    "## Example\n",
    "Let's look at the critical Ising ground state with $L=2$ and measure the first spin along $Z$. After the measurement, the correlation matrix becomes"
   ]
  },
  {
   "cell_type": "code",
   "execution_count": 28,
   "id": "a8479dcc-a511-4745-975c-fc0034300337",
   "metadata": {},
   "outputs": [
    {
     "data": {
      "text/plain": [
       "array([[ 0., -1.,  0.,  0.],\n",
       "       [ 1.,  0.,  0.,  0.],\n",
       "       [ 0.,  0.,  0., -1.],\n",
       "       [ 0.,  0.,  1.,  0.]])"
      ]
     },
     "execution_count": 28,
     "metadata": {},
     "output_type": "execute_result"
    }
   ],
   "source": [
    "QM.measure_Z(QM.IsingGS_CorrMtx(L=2),1)"
   ]
  },
  {
   "cell_type": "markdown",
   "id": "873701c4-e35f-4ab7-8a38-e787f28cbe7a",
   "metadata": {},
   "source": [
    "The above result is exactly what we would expect. \n",
    "\n",
    "Since in this case, we only have two spins, after the measurement, two spins decouple thus the off-diagonal $2\\times2$ matrices should be zero. The first diagonal block matrix corresponds to spin 1, which is either $\\begin{pmatrix}\n",
    "0 & -1\\\\\n",
    "1 & 0\n",
    "\\end{pmatrix}$ $\\leftrightarrow$ $Z_1=+1$ or $\\begin{pmatrix}\n",
    "0 & 1\\\\\n",
    "-1 & 0\n",
    "\\end{pmatrix}$ $\\leftrightarrow$ $Z_1=-1$. \n",
    "\n",
    "From the exact diagonalization (shown below), we can see that the ground state takes the following form \n",
    "$|\\psi\\rangle = a\\,|00\\rangle + b\\,|11\\rangle$"
   ]
  },
  {
   "cell_type": "code",
   "execution_count": 29,
   "id": "401ba91f-5f4f-47de-ad7c-a0dd3bea8460",
   "metadata": {},
   "outputs": [
    {
     "data": {
      "text/plain": [
       "array([-0.92387953,  0.        ,  0.        , -0.38268343])"
      ]
     },
     "execution_count": 29,
     "metadata": {},
     "output_type": "execute_result"
    }
   ],
   "source": [
    "eigv, eigvec = LA.eigh(Ising_H_def(L=2, g=1))\n",
    "eigvec[:,0]"
   ]
  },
  {
   "cell_type": "markdown",
   "id": "f389175d-e2cf-421f-90dc-8084edfa826e",
   "metadata": {},
   "source": [
    "Thus, after the $Z_1$ measurement, the second spin collapses to the same state as the spin 1. Namely, the second diagonal block matrix should also be equal to the first block. \n",
    "\n",
    "If we run the same script several times, it could give us two different outputs corresponding to two different measurement outcomes. \n",
    "$$\n",
    "\\begin{pmatrix}\n",
    "0 & -1 & 0 & 0\\\\\n",
    "1 & 0 & 0 & 0\\\\\n",
    "0 & 0 & 0 & -1\\\\\n",
    "0 & 0 & 1 & 0\\\\\n",
    "\\end{pmatrix}~\\leftrightarrow~|00\\rangle ~~,~~\n",
    "\\begin{pmatrix}\n",
    "0 & 1 & 0 & 0\\\\\n",
    "-1 & 0 & 0 & 0\\\\\n",
    "0 & 0 & 0 & 1\\\\\n",
    "0 & 0 & -1 & 0\\\\\n",
    "\\end{pmatrix}~\\leftrightarrow~|11\\rangle\n",
    "$$"
   ]
  },
  {
   "cell_type": "code",
   "execution_count": 30,
   "id": "cc740ff7-1b76-426d-8d0c-564cc20e1a27",
   "metadata": {},
   "outputs": [
    {
     "data": {
      "text/plain": [
       "array([[ 0.,  1.,  0.,  0.],\n",
       "       [-1.,  0.,  0.,  0.],\n",
       "       [ 0.,  0.,  0.,  1.],\n",
       "       [ 0.,  0., -1.,  0.]])"
      ]
     },
     "execution_count": 30,
     "metadata": {},
     "output_type": "execute_result"
    }
   ],
   "source": [
    "QM.measure_Z(QM.IsingGS_CorrMtx(L=2),1)"
   ]
  }
 ],
 "metadata": {
  "kernelspec": {
   "display_name": "Python 3 (ipykernel)",
   "language": "python",
   "name": "python3"
  },
  "language_info": {
   "codemirror_mode": {
    "name": "ipython",
    "version": 3
   },
   "file_extension": ".py",
   "mimetype": "text/x-python",
   "name": "python",
   "nbconvert_exporter": "python",
   "pygments_lexer": "ipython3",
   "version": "3.12.4"
  }
 },
 "nbformat": 4,
 "nbformat_minor": 5
}
